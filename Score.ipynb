{
 "cells": [
  {
   "cell_type": "markdown",
   "id": "bdfbc4dd",
   "metadata": {},
   "source": [
    "#### Import modules"
   ]
  },
  {
   "cell_type": "code",
   "execution_count": 67,
   "id": "210ce524",
   "metadata": {},
   "outputs": [],
   "source": [
    "import pandas as pd\n",
    "import seaborn as sns\n",
    "import matplotlib.pyplot as plt\n",
    "\n",
    "from sklearn import preprocessing\n",
    "from sklearn.ensemble import RandomForestClassifier\n",
    "from sklearn.datasets import make_classification\n",
    "\n",
    "pd.set_option('display.max_columns', None)"
   ]
  },
  {
   "cell_type": "markdown",
   "id": "074e4dfa",
   "metadata": {},
   "source": [
    "#### Load the data provided"
   ]
  },
  {
   "cell_type": "code",
   "execution_count": 68,
   "id": "6247095e",
   "metadata": {},
   "outputs": [],
   "source": [
    "Train = pd.read_csv(\"Train.csv\")"
   ]
  },
  {
   "cell_type": "code",
   "execution_count": 69,
   "id": "fad0aac9",
   "metadata": {},
   "outputs": [
    {
     "data": {
      "text/html": [
       "<div>\n",
       "<style scoped>\n",
       "    .dataframe tbody tr th:only-of-type {\n",
       "        vertical-align: middle;\n",
       "    }\n",
       "\n",
       "    .dataframe tbody tr th {\n",
       "        vertical-align: top;\n",
       "    }\n",
       "\n",
       "    .dataframe thead th {\n",
       "        text-align: right;\n",
       "    }\n",
       "</style>\n",
       "<table border=\"1\" class=\"dataframe\">\n",
       "  <thead>\n",
       "    <tr style=\"text-align: right;\">\n",
       "      <th></th>\n",
       "      <th>Date</th>\n",
       "      <th>Season</th>\n",
       "      <th>Match_ID</th>\n",
       "      <th>Game_ID</th>\n",
       "      <th>Home Team</th>\n",
       "      <th>Away Team</th>\n",
       "      <th>Score</th>\n",
       "    </tr>\n",
       "  </thead>\n",
       "  <tbody>\n",
       "    <tr>\n",
       "      <th>0</th>\n",
       "      <td>2017-02-15</td>\n",
       "      <td>1</td>\n",
       "      <td>1.0</td>\n",
       "      <td>ID_KAG4KAE9</td>\n",
       "      <td>Antennae</td>\n",
       "      <td>Andromeda</td>\n",
       "      <td>Away win</td>\n",
       "    </tr>\n",
       "    <tr>\n",
       "      <th>1</th>\n",
       "      <td>2016-09-14</td>\n",
       "      <td>1</td>\n",
       "      <td>12.0</td>\n",
       "      <td>ID_T7H1XN5Z</td>\n",
       "      <td>Andromeda</td>\n",
       "      <td>Antennae</td>\n",
       "      <td>Draw</td>\n",
       "    </tr>\n",
       "    <tr>\n",
       "      <th>2</th>\n",
       "      <td>2016-12-12</td>\n",
       "      <td>1</td>\n",
       "      <td>13.0</td>\n",
       "      <td>ID_O1P9FGN4</td>\n",
       "      <td>Andromeda</td>\n",
       "      <td>Butterfly</td>\n",
       "      <td>Away win</td>\n",
       "    </tr>\n",
       "    <tr>\n",
       "      <th>3</th>\n",
       "      <td>2017-01-25</td>\n",
       "      <td>1</td>\n",
       "      <td>14.0</td>\n",
       "      <td>ID_TR5M4KQV</td>\n",
       "      <td>Andromeda</td>\n",
       "      <td>Cigar</td>\n",
       "      <td>Away win</td>\n",
       "    </tr>\n",
       "    <tr>\n",
       "      <th>4</th>\n",
       "      <td>2016-08-24</td>\n",
       "      <td>1</td>\n",
       "      <td>15.0</td>\n",
       "      <td>ID_EOIECRE2</td>\n",
       "      <td>Andromeda</td>\n",
       "      <td>Circinus</td>\n",
       "      <td>Home Win</td>\n",
       "    </tr>\n",
       "  </tbody>\n",
       "</table>\n",
       "</div>"
      ],
      "text/plain": [
       "         Date  Season  Match_ID      Game_ID  Home Team  Away Team     Score\n",
       "0  2017-02-15       1       1.0  ID_KAG4KAE9   Antennae  Andromeda  Away win\n",
       "1  2016-09-14       1      12.0  ID_T7H1XN5Z  Andromeda   Antennae      Draw\n",
       "2  2016-12-12       1      13.0  ID_O1P9FGN4  Andromeda  Butterfly  Away win\n",
       "3  2017-01-25       1      14.0  ID_TR5M4KQV  Andromeda      Cigar  Away win\n",
       "4  2016-08-24       1      15.0  ID_EOIECRE2  Andromeda   Circinus  Home Win"
      ]
     },
     "execution_count": 69,
     "metadata": {},
     "output_type": "execute_result"
    }
   ],
   "source": [
    "Train.head()"
   ]
  },
  {
   "cell_type": "code",
   "execution_count": 70,
   "id": "e0b79e1d",
   "metadata": {},
   "outputs": [],
   "source": [
    "Test = pd.read_csv(\"Test.csv\")\n",
    "Test2 = pd.read_csv(\"Test.csv\")"
   ]
  },
  {
   "cell_type": "code",
   "execution_count": 71,
   "id": "df8ad21c",
   "metadata": {},
   "outputs": [
    {
     "data": {
      "text/html": [
       "<div>\n",
       "<style scoped>\n",
       "    .dataframe tbody tr th:only-of-type {\n",
       "        vertical-align: middle;\n",
       "    }\n",
       "\n",
       "    .dataframe tbody tr th {\n",
       "        vertical-align: top;\n",
       "    }\n",
       "\n",
       "    .dataframe thead th {\n",
       "        text-align: right;\n",
       "    }\n",
       "</style>\n",
       "<table border=\"1\" class=\"dataframe\">\n",
       "  <thead>\n",
       "    <tr style=\"text-align: right;\">\n",
       "      <th></th>\n",
       "      <th>Date</th>\n",
       "      <th>Season</th>\n",
       "      <th>Match_ID</th>\n",
       "      <th>Game_ID</th>\n",
       "      <th>Home Team</th>\n",
       "      <th>Away Team</th>\n",
       "    </tr>\n",
       "  </thead>\n",
       "  <tbody>\n",
       "    <tr>\n",
       "      <th>0</th>\n",
       "      <td>2018-12-08</td>\n",
       "      <td>3</td>\n",
       "      <td>102.0</td>\n",
       "      <td>ID_8518U587</td>\n",
       "      <td>Antennae</td>\n",
       "      <td>Cosmos Redshift 7</td>\n",
       "    </tr>\n",
       "    <tr>\n",
       "      <th>1</th>\n",
       "      <td>2018-09-11</td>\n",
       "      <td>3</td>\n",
       "      <td>18.0</td>\n",
       "      <td>ID_H49BIKG7</td>\n",
       "      <td>Cosmos Redshift 7</td>\n",
       "      <td>Tadpole</td>\n",
       "    </tr>\n",
       "    <tr>\n",
       "      <th>2</th>\n",
       "      <td>2018-09-25</td>\n",
       "      <td>3</td>\n",
       "      <td>32.0</td>\n",
       "      <td>ID_PO6SP4VA</td>\n",
       "      <td>Cosmos Redshift 7</td>\n",
       "      <td>Medusa Merger</td>\n",
       "    </tr>\n",
       "    <tr>\n",
       "      <th>3</th>\n",
       "      <td>2018-10-02</td>\n",
       "      <td>3</td>\n",
       "      <td>40.0</td>\n",
       "      <td>ID_MZRCNBAQ</td>\n",
       "      <td>Cartwheel</td>\n",
       "      <td>Cosmos Redshift 7</td>\n",
       "    </tr>\n",
       "    <tr>\n",
       "      <th>4</th>\n",
       "      <td>2018-12-20</td>\n",
       "      <td>3</td>\n",
       "      <td>123.0</td>\n",
       "      <td>ID_CV9VOLIU</td>\n",
       "      <td>Cosmos Redshift 7</td>\n",
       "      <td>Needle</td>\n",
       "    </tr>\n",
       "  </tbody>\n",
       "</table>\n",
       "</div>"
      ],
      "text/plain": [
       "         Date  Season  Match_ID      Game_ID          Home Team  \\\n",
       "0  2018-12-08       3     102.0  ID_8518U587           Antennae   \n",
       "1  2018-09-11       3      18.0  ID_H49BIKG7  Cosmos Redshift 7   \n",
       "2  2018-09-25       3      32.0  ID_PO6SP4VA  Cosmos Redshift 7   \n",
       "3  2018-10-02       3      40.0  ID_MZRCNBAQ          Cartwheel   \n",
       "4  2018-12-20       3     123.0  ID_CV9VOLIU  Cosmos Redshift 7   \n",
       "\n",
       "           Away Team  \n",
       "0  Cosmos Redshift 7  \n",
       "1            Tadpole  \n",
       "2      Medusa Merger  \n",
       "3  Cosmos Redshift 7  \n",
       "4             Needle  "
      ]
     },
     "execution_count": 71,
     "metadata": {},
     "output_type": "execute_result"
    }
   ],
   "source": [
    "Test.head()"
   ]
  },
  {
   "cell_type": "code",
   "execution_count": 72,
   "id": "371ee58e",
   "metadata": {},
   "outputs": [],
   "source": [
    "test_game_statistics = pd.read_csv(\"test_game_statistics.csv\")"
   ]
  },
  {
   "cell_type": "code",
   "execution_count": 73,
   "id": "7a1d25bb",
   "metadata": {},
   "outputs": [],
   "source": [
    "train_game_statistics = pd.read_csv(\"train_game_statistics.csv\")"
   ]
  },
  {
   "cell_type": "code",
   "execution_count": 74,
   "id": "64c75d0f",
   "metadata": {},
   "outputs": [
    {
     "data": {
      "text/html": [
       "<div>\n",
       "<style scoped>\n",
       "    .dataframe tbody tr th:only-of-type {\n",
       "        vertical-align: middle;\n",
       "    }\n",
       "\n",
       "    .dataframe tbody tr th {\n",
       "        vertical-align: top;\n",
       "    }\n",
       "\n",
       "    .dataframe thead th {\n",
       "        text-align: right;\n",
       "    }\n",
       "</style>\n",
       "<table border=\"1\" class=\"dataframe\">\n",
       "  <thead>\n",
       "    <tr style=\"text-align: right;\">\n",
       "      <th></th>\n",
       "      <th>Game_ID</th>\n",
       "      <th>Player_ID</th>\n",
       "      <th>id</th>\n",
       "      <th>X</th>\n",
       "      <th>Y</th>\n",
       "      <th>Team</th>\n",
       "      <th>Action</th>\n",
       "      <th>Half</th>\n",
       "      <th>Season</th>\n",
       "      <th>Manager</th>\n",
       "      <th>Opposition_Team</th>\n",
       "      <th>Shots</th>\n",
       "      <th>SoT</th>\n",
       "      <th>Goals_scored</th>\n",
       "      <th>Goals_conceded</th>\n",
       "      <th>Accurate passes</th>\n",
       "      <th>Inaccurate passes</th>\n",
       "      <th>Passes</th>\n",
       "      <th>Start_minutes</th>\n",
       "      <th>End_minutes</th>\n",
       "      <th>next_player</th>\n",
       "      <th>next_action</th>\n",
       "      <th>next_x</th>\n",
       "      <th>next_y</th>\n",
       "      <th>event_id</th>\n",
       "      <th>next_team</th>\n",
       "      <th>next_event_id</th>\n",
       "      <th>xt_value</th>\n",
       "    </tr>\n",
       "  </thead>\n",
       "  <tbody>\n",
       "    <tr>\n",
       "      <th>0</th>\n",
       "      <td>ID_ZZKYYPVY</td>\n",
       "      <td>Player_O7HO1NOB</td>\n",
       "      <td>1.0</td>\n",
       "      <td>52.5</td>\n",
       "      <td>34.0</td>\n",
       "      <td>Circinus</td>\n",
       "      <td>Accurate passes</td>\n",
       "      <td>1st half</td>\n",
       "      <td>2</td>\n",
       "      <td>Ryoichi</td>\n",
       "      <td>Backward</td>\n",
       "      <td>0.0</td>\n",
       "      <td>0.0</td>\n",
       "      <td>0.0</td>\n",
       "      <td>0.0</td>\n",
       "      <td>1.0</td>\n",
       "      <td>0.0</td>\n",
       "      <td>1.0</td>\n",
       "      <td>0.03</td>\n",
       "      <td>0.37</td>\n",
       "      <td>NaN</td>\n",
       "      <td>NaN</td>\n",
       "      <td>NaN</td>\n",
       "      <td>NaN</td>\n",
       "      <td>NaN</td>\n",
       "      <td>NaN</td>\n",
       "      <td>NaN</td>\n",
       "      <td>NaN</td>\n",
       "    </tr>\n",
       "    <tr>\n",
       "      <th>1</th>\n",
       "      <td>ID_ZZKYYPVY</td>\n",
       "      <td>Player_O7HO1NOB</td>\n",
       "      <td>2.0</td>\n",
       "      <td>52.5</td>\n",
       "      <td>34.0</td>\n",
       "      <td>Circinus</td>\n",
       "      <td>Positional attacks</td>\n",
       "      <td>1st half</td>\n",
       "      <td>2</td>\n",
       "      <td>Ryoichi</td>\n",
       "      <td>Backward</td>\n",
       "      <td>0.0</td>\n",
       "      <td>0.0</td>\n",
       "      <td>0.0</td>\n",
       "      <td>0.0</td>\n",
       "      <td>0.0</td>\n",
       "      <td>0.0</td>\n",
       "      <td>0.0</td>\n",
       "      <td>0.03</td>\n",
       "      <td>0.37</td>\n",
       "      <td>NaN</td>\n",
       "      <td>NaN</td>\n",
       "      <td>NaN</td>\n",
       "      <td>NaN</td>\n",
       "      <td>NaN</td>\n",
       "      <td>NaN</td>\n",
       "      <td>NaN</td>\n",
       "      <td>NaN</td>\n",
       "    </tr>\n",
       "    <tr>\n",
       "      <th>2</th>\n",
       "      <td>ID_ZZKYYPVY</td>\n",
       "      <td>Player_J0V7B0YE</td>\n",
       "      <td>3.0</td>\n",
       "      <td>37.0</td>\n",
       "      <td>32.7</td>\n",
       "      <td>Circinus</td>\n",
       "      <td>Positional attacks</td>\n",
       "      <td>1st half</td>\n",
       "      <td>2</td>\n",
       "      <td>Ryoichi</td>\n",
       "      <td>Backward</td>\n",
       "      <td>0.0</td>\n",
       "      <td>0.0</td>\n",
       "      <td>0.0</td>\n",
       "      <td>0.0</td>\n",
       "      <td>0.0</td>\n",
       "      <td>0.0</td>\n",
       "      <td>0.0</td>\n",
       "      <td>0.05</td>\n",
       "      <td>0.38</td>\n",
       "      <td>NaN</td>\n",
       "      <td>NaN</td>\n",
       "      <td>NaN</td>\n",
       "      <td>NaN</td>\n",
       "      <td>NaN</td>\n",
       "      <td>NaN</td>\n",
       "      <td>NaN</td>\n",
       "      <td>NaN</td>\n",
       "    </tr>\n",
       "    <tr>\n",
       "      <th>3</th>\n",
       "      <td>ID_ZZKYYPVY</td>\n",
       "      <td>Player_J0V7B0YE</td>\n",
       "      <td>4.0</td>\n",
       "      <td>39.5</td>\n",
       "      <td>33.0</td>\n",
       "      <td>Circinus</td>\n",
       "      <td>Positional attacks</td>\n",
       "      <td>1st half</td>\n",
       "      <td>2</td>\n",
       "      <td>Ryoichi</td>\n",
       "      <td>Backward</td>\n",
       "      <td>0.0</td>\n",
       "      <td>0.0</td>\n",
       "      <td>0.0</td>\n",
       "      <td>0.0</td>\n",
       "      <td>0.0</td>\n",
       "      <td>0.0</td>\n",
       "      <td>0.0</td>\n",
       "      <td>0.07</td>\n",
       "      <td>0.40</td>\n",
       "      <td>NaN</td>\n",
       "      <td>NaN</td>\n",
       "      <td>NaN</td>\n",
       "      <td>NaN</td>\n",
       "      <td>NaN</td>\n",
       "      <td>NaN</td>\n",
       "      <td>NaN</td>\n",
       "      <td>NaN</td>\n",
       "    </tr>\n",
       "    <tr>\n",
       "      <th>4</th>\n",
       "      <td>ID_ZZKYYPVY</td>\n",
       "      <td>Player_J0V7B0YE</td>\n",
       "      <td>5.0</td>\n",
       "      <td>39.5</td>\n",
       "      <td>33.0</td>\n",
       "      <td>Circinus</td>\n",
       "      <td>Inaccurate passes</td>\n",
       "      <td>1st half</td>\n",
       "      <td>2</td>\n",
       "      <td>Ryoichi</td>\n",
       "      <td>Backward</td>\n",
       "      <td>0.0</td>\n",
       "      <td>0.0</td>\n",
       "      <td>0.0</td>\n",
       "      <td>0.0</td>\n",
       "      <td>0.0</td>\n",
       "      <td>1.0</td>\n",
       "      <td>1.0</td>\n",
       "      <td>0.07</td>\n",
       "      <td>0.40</td>\n",
       "      <td>NaN</td>\n",
       "      <td>NaN</td>\n",
       "      <td>NaN</td>\n",
       "      <td>NaN</td>\n",
       "      <td>NaN</td>\n",
       "      <td>NaN</td>\n",
       "      <td>NaN</td>\n",
       "      <td>NaN</td>\n",
       "    </tr>\n",
       "  </tbody>\n",
       "</table>\n",
       "</div>"
      ],
      "text/plain": [
       "       Game_ID        Player_ID   id     X     Y      Team  \\\n",
       "0  ID_ZZKYYPVY  Player_O7HO1NOB  1.0  52.5  34.0  Circinus   \n",
       "1  ID_ZZKYYPVY  Player_O7HO1NOB  2.0  52.5  34.0  Circinus   \n",
       "2  ID_ZZKYYPVY  Player_J0V7B0YE  3.0  37.0  32.7  Circinus   \n",
       "3  ID_ZZKYYPVY  Player_J0V7B0YE  4.0  39.5  33.0  Circinus   \n",
       "4  ID_ZZKYYPVY  Player_J0V7B0YE  5.0  39.5  33.0  Circinus   \n",
       "\n",
       "               Action      Half  Season  Manager Opposition_Team  Shots  SoT  \\\n",
       "0     Accurate passes  1st half       2  Ryoichi        Backward    0.0  0.0   \n",
       "1  Positional attacks  1st half       2  Ryoichi        Backward    0.0  0.0   \n",
       "2  Positional attacks  1st half       2  Ryoichi        Backward    0.0  0.0   \n",
       "3  Positional attacks  1st half       2  Ryoichi        Backward    0.0  0.0   \n",
       "4   Inaccurate passes  1st half       2  Ryoichi        Backward    0.0  0.0   \n",
       "\n",
       "   Goals_scored  Goals_conceded  Accurate passes  Inaccurate passes  Passes  \\\n",
       "0           0.0             0.0              1.0                0.0     1.0   \n",
       "1           0.0             0.0              0.0                0.0     0.0   \n",
       "2           0.0             0.0              0.0                0.0     0.0   \n",
       "3           0.0             0.0              0.0                0.0     0.0   \n",
       "4           0.0             0.0              0.0                1.0     1.0   \n",
       "\n",
       "   Start_minutes  End_minutes  next_player  next_action  next_x  next_y  \\\n",
       "0           0.03         0.37          NaN          NaN     NaN     NaN   \n",
       "1           0.03         0.37          NaN          NaN     NaN     NaN   \n",
       "2           0.05         0.38          NaN          NaN     NaN     NaN   \n",
       "3           0.07         0.40          NaN          NaN     NaN     NaN   \n",
       "4           0.07         0.40          NaN          NaN     NaN     NaN   \n",
       "\n",
       "   event_id  next_team  next_event_id  xt_value  \n",
       "0       NaN        NaN            NaN       NaN  \n",
       "1       NaN        NaN            NaN       NaN  \n",
       "2       NaN        NaN            NaN       NaN  \n",
       "3       NaN        NaN            NaN       NaN  \n",
       "4       NaN        NaN            NaN       NaN  "
      ]
     },
     "execution_count": 74,
     "metadata": {},
     "output_type": "execute_result"
    }
   ],
   "source": [
    "train_game_statistics.head()"
   ]
  },
  {
   "cell_type": "code",
   "execution_count": 75,
   "id": "792c7622",
   "metadata": {},
   "outputs": [
    {
     "data": {
      "text/plain": [
       "((412, 7), (234, 6), (1571577, 28), (780234, 24))"
      ]
     },
     "execution_count": 75,
     "metadata": {},
     "output_type": "execute_result"
    }
   ],
   "source": [
    "Train.shape, Test.shape, train_game_statistics.shape, test_game_statistics.shape"
   ]
  },
  {
   "cell_type": "markdown",
   "id": "a9428a56",
   "metadata": {},
   "source": [
    "### Data EDA \n",
    "\n",
    "  "
   ]
  },
  {
   "cell_type": "markdown",
   "id": "e773f03c",
   "metadata": {},
   "source": [
    "#### How many seasons are in train and test ?"
   ]
  },
  {
   "cell_type": "code",
   "execution_count": 76,
   "id": "aa1568cc",
   "metadata": {},
   "outputs": [
    {
     "data": {
      "text/plain": [
       "<Axes: ylabel='count'>"
      ]
     },
     "execution_count": 76,
     "metadata": {},
     "output_type": "execute_result"
    },
    {
     "data": {
      "image/png": "[encoded data removed]",
      "text/plain": [
       "<Figure size 640x480 with 1 Axes>"
      ]
     },
     "metadata": {},
     "output_type": "display_data"
    }
   ],
   "source": [
    "sns.countplot(Train[\"Season\"])"
   ]
  },
  {
   "cell_type": "code",
   "execution_count": 77,
   "id": "f04c6a4e",
   "metadata": {},
   "outputs": [
    {
     "data": {
      "text/plain": [
       "<Axes: ylabel='count'>"
      ]
     },
     "execution_count": 77,
     "metadata": {},
     "output_type": "execute_result"
    },
    {
     "data": {
      "image/png": "[encoded data removed]",
      "text/plain": [
       "<Figure size 640x480 with 1 Axes>"
      ]
     },
     "metadata": {},
     "output_type": "display_data"
    }
   ],
   "source": [
    "sns.countplot(Test[\"Season\"])"
   ]
  },
  {
   "cell_type": "markdown",
   "id": "15b370da",
   "metadata": {},
   "source": [
    "- We can see that 2 seasons are provided in the training data while one season is provided in the the test"
   ]
  },
  {
   "cell_type": "markdown",
   "id": "034c3773",
   "metadata": {},
   "source": [
    "#### How many unique match IDs are provided?\n",
    "\n",
    "- From a football perspective, can you find out what's a match, are matches specific to every season?"
   ]
  },
  {
   "cell_type": "code",
   "execution_count": 78,
   "id": "d237ca8a",
   "metadata": {},
   "outputs": [
    {
     "data": {
      "text/plain": [
       "224"
      ]
     },
     "execution_count": 78,
     "metadata": {},
     "output_type": "execute_result"
    }
   ],
   "source": [
    "Train.Match_ID.nunique()"
   ]
  },
  {
   "cell_type": "code",
   "execution_count": 79,
   "id": "afb9ad72",
   "metadata": {},
   "outputs": [
    {
     "data": {
      "text/plain": [
       "213"
      ]
     },
     "execution_count": 79,
     "metadata": {},
     "output_type": "execute_result"
    }
   ],
   "source": [
    "Test.Match_ID.nunique()"
   ]
  },
  {
   "cell_type": "markdown",
   "id": "0f0062da",
   "metadata": {},
   "source": [
    "#### How many games were played in train seasons and test seasons?"
   ]
  },
  {
   "cell_type": "code",
   "execution_count": 80,
   "id": "2db047d7",
   "metadata": {},
   "outputs": [
    {
     "data": {
      "text/plain": [
       "412"
      ]
     },
     "execution_count": 80,
     "metadata": {},
     "output_type": "execute_result"
    }
   ],
   "source": [
    "Train.Game_ID.nunique()"
   ]
  },
  {
   "cell_type": "code",
   "execution_count": 81,
   "id": "ebcdbd9e",
   "metadata": {},
   "outputs": [
    {
     "data": {
      "text/plain": [
       "234"
      ]
     },
     "execution_count": 81,
     "metadata": {},
     "output_type": "execute_result"
    }
   ],
   "source": [
    "Test.Game_ID.nunique()"
   ]
  },
  {
   "cell_type": "markdown",
   "id": "746c4cd8",
   "metadata": {},
   "source": [
    "#### How many teams were away and home?"
   ]
  },
  {
   "cell_type": "code",
   "execution_count": 82,
   "id": "525f5bbb",
   "metadata": {},
   "outputs": [
    {
     "data": {
      "text/plain": [
       "19"
      ]
     },
     "execution_count": 82,
     "metadata": {},
     "output_type": "execute_result"
    }
   ],
   "source": [
    "Train[\"Home Team\"].nunique()"
   ]
  },
  {
   "cell_type": "code",
   "execution_count": 83,
   "id": "4a867ea4",
   "metadata": {},
   "outputs": [
    {
     "data": {
      "text/plain": [
       "19"
      ]
     },
     "execution_count": 83,
     "metadata": {},
     "output_type": "execute_result"
    }
   ],
   "source": [
    "Train[\"Away Team\"].nunique()"
   ]
  },
  {
   "cell_type": "code",
   "execution_count": 84,
   "id": "b163b312",
   "metadata": {},
   "outputs": [
    {
     "data": {
      "text/plain": [
       "16"
      ]
     },
     "execution_count": 84,
     "metadata": {},
     "output_type": "execute_result"
    }
   ],
   "source": [
    "Test[\"Home Team\"].nunique()"
   ]
  },
  {
   "cell_type": "code",
   "execution_count": 85,
   "id": "fd83351e",
   "metadata": {},
   "outputs": [
    {
     "data": {
      "text/plain": [
       "16"
      ]
     },
     "execution_count": 85,
     "metadata": {},
     "output_type": "execute_result"
    }
   ],
   "source": [
    "Test[\"Away Team\"].nunique()"
   ]
  },
  {
   "cell_type": "markdown",
   "id": "85942183",
   "metadata": {},
   "source": [
    "#### Did the team Win, Lose or Draw?\n",
    "\n",
    "- Let's look at the target column, the reason for creating our machine learning model, the goal of every footbal game is to determine the winner"
   ]
  },
  {
   "cell_type": "code",
   "execution_count": 86,
   "id": "4355ddb1",
   "metadata": {},
   "outputs": [
    {
     "data": {
      "text/plain": [
       "3"
      ]
     },
     "execution_count": 86,
     "metadata": {},
     "output_type": "execute_result"
    }
   ],
   "source": [
    "Train[\"Score\"].nunique()"
   ]
  },
  {
   "cell_type": "markdown",
   "id": "64def3e9",
   "metadata": {},
   "source": [
    "### Feature Engineering and Modelling"
   ]
  },
  {
   "cell_type": "code",
   "execution_count": 87,
   "id": "2dd2da40",
   "metadata": {},
   "outputs": [],
   "source": [
    "Train[\"Train\"] = 1\n",
    "Test[\"Train\"]= 0\n",
    "\n",
    "train_test = pd.concat([Train, Test])"
   ]
  },
  {
   "cell_type": "code",
   "execution_count": 88,
   "id": "ab400344",
   "metadata": {},
   "outputs": [
    {
     "data": {
      "text/plain": [
       "(646, 8)"
      ]
     },
     "execution_count": 88,
     "metadata": {},
     "output_type": "execute_result"
    }
   ],
   "source": [
    "train_test.shape"
   ]
  },
  {
   "cell_type": "code",
   "execution_count": 89,
   "id": "6989fb6f",
   "metadata": {},
   "outputs": [
    {
     "data": {
      "text/html": [
       "<div>\n",
       "<style scoped>\n",
       "    .dataframe tbody tr th:only-of-type {\n",
       "        vertical-align: middle;\n",
       "    }\n",
       "\n",
       "    .dataframe tbody tr th {\n",
       "        vertical-align: top;\n",
       "    }\n",
       "\n",
       "    .dataframe thead th {\n",
       "        text-align: right;\n",
       "    }\n",
       "</style>\n",
       "<table border=\"1\" class=\"dataframe\">\n",
       "  <thead>\n",
       "    <tr style=\"text-align: right;\">\n",
       "      <th></th>\n",
       "      <th>Date</th>\n",
       "      <th>Season</th>\n",
       "      <th>Match_ID</th>\n",
       "      <th>Game_ID</th>\n",
       "      <th>Home Team</th>\n",
       "      <th>Away Team</th>\n",
       "      <th>Score</th>\n",
       "      <th>Train</th>\n",
       "    </tr>\n",
       "  </thead>\n",
       "  <tbody>\n",
       "    <tr>\n",
       "      <th>0</th>\n",
       "      <td>2017-02-15</td>\n",
       "      <td>1</td>\n",
       "      <td>1.0</td>\n",
       "      <td>ID_KAG4KAE9</td>\n",
       "      <td>Antennae</td>\n",
       "      <td>Andromeda</td>\n",
       "      <td>Away win</td>\n",
       "      <td>1</td>\n",
       "    </tr>\n",
       "    <tr>\n",
       "      <th>1</th>\n",
       "      <td>2016-09-14</td>\n",
       "      <td>1</td>\n",
       "      <td>12.0</td>\n",
       "      <td>ID_T7H1XN5Z</td>\n",
       "      <td>Andromeda</td>\n",
       "      <td>Antennae</td>\n",
       "      <td>Draw</td>\n",
       "      <td>1</td>\n",
       "    </tr>\n",
       "    <tr>\n",
       "      <th>2</th>\n",
       "      <td>2016-12-12</td>\n",
       "      <td>1</td>\n",
       "      <td>13.0</td>\n",
       "      <td>ID_O1P9FGN4</td>\n",
       "      <td>Andromeda</td>\n",
       "      <td>Butterfly</td>\n",
       "      <td>Away win</td>\n",
       "      <td>1</td>\n",
       "    </tr>\n",
       "  </tbody>\n",
       "</table>\n",
       "</div>"
      ],
      "text/plain": [
       "         Date  Season  Match_ID      Game_ID  Home Team  Away Team     Score  \\\n",
       "0  2017-02-15       1       1.0  ID_KAG4KAE9   Antennae  Andromeda  Away win   \n",
       "1  2016-09-14       1      12.0  ID_T7H1XN5Z  Andromeda   Antennae      Draw   \n",
       "2  2016-12-12       1      13.0  ID_O1P9FGN4  Andromeda  Butterfly  Away win   \n",
       "\n",
       "   Train  \n",
       "0      1  \n",
       "1      1  \n",
       "2      1  "
      ]
     },
     "execution_count": 89,
     "metadata": {},
     "output_type": "execute_result"
    }
   ],
   "source": [
    "train_test.head(3)"
   ]
  },
  {
   "cell_type": "code",
   "execution_count": 90,
   "id": "ff37bea7",
   "metadata": {},
   "outputs": [],
   "source": [
    "game_statistics = pd.concat([train_game_statistics, test_game_statistics])"
   ]
  },
  {
   "cell_type": "code",
   "execution_count": 91,
   "id": "3145c147",
   "metadata": {},
   "outputs": [],
   "source": [
    "all_data = game_statistics.merge(train_test, on=\"Game_ID\")"
   ]
  },
  {
   "cell_type": "code",
   "execution_count": 92,
   "id": "f0e05392",
   "metadata": {},
   "outputs": [
    {
     "data": {
      "text/plain": [
       "(2351811, 35)"
      ]
     },
     "execution_count": 92,
     "metadata": {},
     "output_type": "execute_result"
    }
   ],
   "source": [
    "all_data.shape"
   ]
  },
  {
   "cell_type": "code",
   "execution_count": 93,
   "id": "0a5339e0",
   "metadata": {},
   "outputs": [
    {
     "data": {
      "text/html": [
       "<div>\n",
       "<style scoped>\n",
       "    .dataframe tbody tr th:only-of-type {\n",
       "        vertical-align: middle;\n",
       "    }\n",
       "\n",
       "    .dataframe tbody tr th {\n",
       "        vertical-align: top;\n",
       "    }\n",
       "\n",
       "    .dataframe thead th {\n",
       "        text-align: right;\n",
       "    }\n",
       "</style>\n",
       "<table border=\"1\" class=\"dataframe\">\n",
       "  <thead>\n",
       "    <tr style=\"text-align: right;\">\n",
       "      <th></th>\n",
       "      <th>Game_ID</th>\n",
       "      <th>Player_ID</th>\n",
       "      <th>id</th>\n",
       "      <th>X</th>\n",
       "      <th>Y</th>\n",
       "      <th>Team</th>\n",
       "      <th>Action</th>\n",
       "      <th>Half</th>\n",
       "      <th>Season_x</th>\n",
       "      <th>Manager</th>\n",
       "      <th>Opposition_Team</th>\n",
       "      <th>Shots</th>\n",
       "      <th>SoT</th>\n",
       "      <th>Goals_scored</th>\n",
       "      <th>Goals_conceded</th>\n",
       "      <th>Accurate passes</th>\n",
       "      <th>Inaccurate passes</th>\n",
       "      <th>Passes</th>\n",
       "      <th>Start_minutes</th>\n",
       "      <th>End_minutes</th>\n",
       "      <th>next_player</th>\n",
       "      <th>next_action</th>\n",
       "      <th>next_x</th>\n",
       "      <th>next_y</th>\n",
       "      <th>event_id</th>\n",
       "      <th>next_team</th>\n",
       "      <th>next_event_id</th>\n",
       "      <th>xt_value</th>\n",
       "      <th>Date</th>\n",
       "      <th>Season_y</th>\n",
       "      <th>Match_ID</th>\n",
       "      <th>Home Team</th>\n",
       "      <th>Away Team</th>\n",
       "      <th>Score</th>\n",
       "      <th>Train</th>\n",
       "    </tr>\n",
       "  </thead>\n",
       "  <tbody>\n",
       "    <tr>\n",
       "      <th>0</th>\n",
       "      <td>ID_ZZKYYPVY</td>\n",
       "      <td>Player_O7HO1NOB</td>\n",
       "      <td>1.0</td>\n",
       "      <td>52.5</td>\n",
       "      <td>34.0</td>\n",
       "      <td>Circinus</td>\n",
       "      <td>Accurate passes</td>\n",
       "      <td>1st half</td>\n",
       "      <td>2</td>\n",
       "      <td>Ryoichi</td>\n",
       "      <td>Backward</td>\n",
       "      <td>0.0</td>\n",
       "      <td>0.0</td>\n",
       "      <td>0.0</td>\n",
       "      <td>0.0</td>\n",
       "      <td>1.0</td>\n",
       "      <td>0.0</td>\n",
       "      <td>1.0</td>\n",
       "      <td>0.03</td>\n",
       "      <td>0.37</td>\n",
       "      <td>NaN</td>\n",
       "      <td>NaN</td>\n",
       "      <td>NaN</td>\n",
       "      <td>NaN</td>\n",
       "      <td>NaN</td>\n",
       "      <td>NaN</td>\n",
       "      <td>NaN</td>\n",
       "      <td>NaN</td>\n",
       "      <td>2017-12-06</td>\n",
       "      <td>2</td>\n",
       "      <td>39.0</td>\n",
       "      <td>Backward</td>\n",
       "      <td>Circinus</td>\n",
       "      <td>Home Win</td>\n",
       "      <td>1</td>\n",
       "    </tr>\n",
       "    <tr>\n",
       "      <th>1</th>\n",
       "      <td>ID_ZZKYYPVY</td>\n",
       "      <td>Player_O7HO1NOB</td>\n",
       "      <td>2.0</td>\n",
       "      <td>52.5</td>\n",
       "      <td>34.0</td>\n",
       "      <td>Circinus</td>\n",
       "      <td>Positional attacks</td>\n",
       "      <td>1st half</td>\n",
       "      <td>2</td>\n",
       "      <td>Ryoichi</td>\n",
       "      <td>Backward</td>\n",
       "      <td>0.0</td>\n",
       "      <td>0.0</td>\n",
       "      <td>0.0</td>\n",
       "      <td>0.0</td>\n",
       "      <td>0.0</td>\n",
       "      <td>0.0</td>\n",
       "      <td>0.0</td>\n",
       "      <td>0.03</td>\n",
       "      <td>0.37</td>\n",
       "      <td>NaN</td>\n",
       "      <td>NaN</td>\n",
       "      <td>NaN</td>\n",
       "      <td>NaN</td>\n",
       "      <td>NaN</td>\n",
       "      <td>NaN</td>\n",
       "      <td>NaN</td>\n",
       "      <td>NaN</td>\n",
       "      <td>2017-12-06</td>\n",
       "      <td>2</td>\n",
       "      <td>39.0</td>\n",
       "      <td>Backward</td>\n",
       "      <td>Circinus</td>\n",
       "      <td>Home Win</td>\n",
       "      <td>1</td>\n",
       "    </tr>\n",
       "    <tr>\n",
       "      <th>2</th>\n",
       "      <td>ID_ZZKYYPVY</td>\n",
       "      <td>Player_J0V7B0YE</td>\n",
       "      <td>3.0</td>\n",
       "      <td>37.0</td>\n",
       "      <td>32.7</td>\n",
       "      <td>Circinus</td>\n",
       "      <td>Positional attacks</td>\n",
       "      <td>1st half</td>\n",
       "      <td>2</td>\n",
       "      <td>Ryoichi</td>\n",
       "      <td>Backward</td>\n",
       "      <td>0.0</td>\n",
       "      <td>0.0</td>\n",
       "      <td>0.0</td>\n",
       "      <td>0.0</td>\n",
       "      <td>0.0</td>\n",
       "      <td>0.0</td>\n",
       "      <td>0.0</td>\n",
       "      <td>0.05</td>\n",
       "      <td>0.38</td>\n",
       "      <td>NaN</td>\n",
       "      <td>NaN</td>\n",
       "      <td>NaN</td>\n",
       "      <td>NaN</td>\n",
       "      <td>NaN</td>\n",
       "      <td>NaN</td>\n",
       "      <td>NaN</td>\n",
       "      <td>NaN</td>\n",
       "      <td>2017-12-06</td>\n",
       "      <td>2</td>\n",
       "      <td>39.0</td>\n",
       "      <td>Backward</td>\n",
       "      <td>Circinus</td>\n",
       "      <td>Home Win</td>\n",
       "      <td>1</td>\n",
       "    </tr>\n",
       "    <tr>\n",
       "      <th>3</th>\n",
       "      <td>ID_ZZKYYPVY</td>\n",
       "      <td>Player_J0V7B0YE</td>\n",
       "      <td>4.0</td>\n",
       "      <td>39.5</td>\n",
       "      <td>33.0</td>\n",
       "      <td>Circinus</td>\n",
       "      <td>Positional attacks</td>\n",
       "      <td>1st half</td>\n",
       "      <td>2</td>\n",
       "      <td>Ryoichi</td>\n",
       "      <td>Backward</td>\n",
       "      <td>0.0</td>\n",
       "      <td>0.0</td>\n",
       "      <td>0.0</td>\n",
       "      <td>0.0</td>\n",
       "      <td>0.0</td>\n",
       "      <td>0.0</td>\n",
       "      <td>0.0</td>\n",
       "      <td>0.07</td>\n",
       "      <td>0.40</td>\n",
       "      <td>NaN</td>\n",
       "      <td>NaN</td>\n",
       "      <td>NaN</td>\n",
       "      <td>NaN</td>\n",
       "      <td>NaN</td>\n",
       "      <td>NaN</td>\n",
       "      <td>NaN</td>\n",
       "      <td>NaN</td>\n",
       "      <td>2017-12-06</td>\n",
       "      <td>2</td>\n",
       "      <td>39.0</td>\n",
       "      <td>Backward</td>\n",
       "      <td>Circinus</td>\n",
       "      <td>Home Win</td>\n",
       "      <td>1</td>\n",
       "    </tr>\n",
       "    <tr>\n",
       "      <th>4</th>\n",
       "      <td>ID_ZZKYYPVY</td>\n",
       "      <td>Player_J0V7B0YE</td>\n",
       "      <td>5.0</td>\n",
       "      <td>39.5</td>\n",
       "      <td>33.0</td>\n",
       "      <td>Circinus</td>\n",
       "      <td>Inaccurate passes</td>\n",
       "      <td>1st half</td>\n",
       "      <td>2</td>\n",
       "      <td>Ryoichi</td>\n",
       "      <td>Backward</td>\n",
       "      <td>0.0</td>\n",
       "      <td>0.0</td>\n",
       "      <td>0.0</td>\n",
       "      <td>0.0</td>\n",
       "      <td>0.0</td>\n",
       "      <td>1.0</td>\n",
       "      <td>1.0</td>\n",
       "      <td>0.07</td>\n",
       "      <td>0.40</td>\n",
       "      <td>NaN</td>\n",
       "      <td>NaN</td>\n",
       "      <td>NaN</td>\n",
       "      <td>NaN</td>\n",
       "      <td>NaN</td>\n",
       "      <td>NaN</td>\n",
       "      <td>NaN</td>\n",
       "      <td>NaN</td>\n",
       "      <td>2017-12-06</td>\n",
       "      <td>2</td>\n",
       "      <td>39.0</td>\n",
       "      <td>Backward</td>\n",
       "      <td>Circinus</td>\n",
       "      <td>Home Win</td>\n",
       "      <td>1</td>\n",
       "    </tr>\n",
       "  </tbody>\n",
       "</table>\n",
       "</div>"
      ],
      "text/plain": [
       "       Game_ID        Player_ID   id     X     Y      Team  \\\n",
       "0  ID_ZZKYYPVY  Player_O7HO1NOB  1.0  52.5  34.0  Circinus   \n",
       "1  ID_ZZKYYPVY  Player_O7HO1NOB  2.0  52.5  34.0  Circinus   \n",
       "2  ID_ZZKYYPVY  Player_J0V7B0YE  3.0  37.0  32.7  Circinus   \n",
       "3  ID_ZZKYYPVY  Player_J0V7B0YE  4.0  39.5  33.0  Circinus   \n",
       "4  ID_ZZKYYPVY  Player_J0V7B0YE  5.0  39.5  33.0  Circinus   \n",
       "\n",
       "               Action      Half  Season_x  Manager Opposition_Team  Shots  \\\n",
       "0     Accurate passes  1st half         2  Ryoichi        Backward    0.0   \n",
       "1  Positional attacks  1st half         2  Ryoichi        Backward    0.0   \n",
       "2  Positional attacks  1st half         2  Ryoichi        Backward    0.0   \n",
       "3  Positional attacks  1st half         2  Ryoichi        Backward    0.0   \n",
       "4   Inaccurate passes  1st half         2  Ryoichi        Backward    0.0   \n",
       "\n",
       "   SoT  Goals_scored  Goals_conceded  Accurate passes  Inaccurate passes  \\\n",
       "0  0.0           0.0             0.0              1.0                0.0   \n",
       "1  0.0           0.0             0.0              0.0                0.0   \n",
       "2  0.0           0.0             0.0              0.0                0.0   \n",
       "3  0.0           0.0             0.0              0.0                0.0   \n",
       "4  0.0           0.0             0.0              0.0                1.0   \n",
       "\n",
       "   Passes  Start_minutes  End_minutes next_player  next_action  next_x  \\\n",
       "0     1.0           0.03         0.37         NaN          NaN     NaN   \n",
       "1     0.0           0.03         0.37         NaN          NaN     NaN   \n",
       "2     0.0           0.05         0.38         NaN          NaN     NaN   \n",
       "3     0.0           0.07         0.40         NaN          NaN     NaN   \n",
       "4     1.0           0.07         0.40         NaN          NaN     NaN   \n",
       "\n",
       "   next_y  event_id next_team  next_event_id  xt_value        Date  Season_y  \\\n",
       "0     NaN       NaN       NaN            NaN       NaN  2017-12-06         2   \n",
       "1     NaN       NaN       NaN            NaN       NaN  2017-12-06         2   \n",
       "2     NaN       NaN       NaN            NaN       NaN  2017-12-06         2   \n",
       "3     NaN       NaN       NaN            NaN       NaN  2017-12-06         2   \n",
       "4     NaN       NaN       NaN            NaN       NaN  2017-12-06         2   \n",
       "\n",
       "   Match_ID Home Team Away Team     Score  Train  \n",
       "0      39.0  Backward  Circinus  Home Win      1  \n",
       "1      39.0  Backward  Circinus  Home Win      1  \n",
       "2      39.0  Backward  Circinus  Home Win      1  \n",
       "3      39.0  Backward  Circinus  Home Win      1  \n",
       "4      39.0  Backward  Circinus  Home Win      1  "
      ]
     },
     "execution_count": 93,
     "metadata": {},
     "output_type": "execute_result"
    }
   ],
   "source": [
    "all_data.head()"
   ]
  },
  {
   "cell_type": "code",
   "execution_count": 94,
   "id": "40790f63",
   "metadata": {},
   "outputs": [],
   "source": [
    "test_f= all_data[all_data['Train'] == 0]\n",
    "train_f = all_data[all_data['Train'] == 1]"
   ]
  },
  {
   "cell_type": "code",
   "execution_count": 95,
   "id": "448b618f",
   "metadata": {},
   "outputs": [
    {
     "name": "stderr",
     "output_type": "stream",
     "text": [
      "/var/folders/sd/lqrhfhxd16s8xnv4w6b6hjc00000gq/T/ipykernel_47224/1115960339.py:3: SettingWithCopyWarning: \n",
      "A value is trying to be set on a copy of a slice from a DataFrame.\n",
      "Try using .loc[row_indexer,col_indexer] = value instead\n",
      "\n",
      "See the caveats in the documentation: https://pandas.pydata.org/pandas-docs/stable/user_guide/indexing.html#returning-a-view-versus-a-copy\n",
      "  train_f[\"Game_ID\"] = le.fit_transform(train_f[\"Game_ID\"])\n",
      "/var/folders/sd/lqrhfhxd16s8xnv4w6b6hjc00000gq/T/ipykernel_47224/1115960339.py:5: SettingWithCopyWarning: \n",
      "A value is trying to be set on a copy of a slice from a DataFrame.\n",
      "Try using .loc[row_indexer,col_indexer] = value instead\n",
      "\n",
      "See the caveats in the documentation: https://pandas.pydata.org/pandas-docs/stable/user_guide/indexing.html#returning-a-view-versus-a-copy\n",
      "  train_f[\"Player_ID\"] = le.fit_transform(train_f[\"Player_ID\"])\n",
      "/var/folders/sd/lqrhfhxd16s8xnv4w6b6hjc00000gq/T/ipykernel_47224/1115960339.py:8: SettingWithCopyWarning: \n",
      "A value is trying to be set on a copy of a slice from a DataFrame.\n",
      "Try using .loc[row_indexer,col_indexer] = value instead\n",
      "\n",
      "See the caveats in the documentation: https://pandas.pydata.org/pandas-docs/stable/user_guide/indexing.html#returning-a-view-versus-a-copy\n",
      "  test_f[\"Game_ID\"] = le.fit_transform(test_f[\"Game_ID\"])\n",
      "/var/folders/sd/lqrhfhxd16s8xnv4w6b6hjc00000gq/T/ipykernel_47224/1115960339.py:10: SettingWithCopyWarning: \n",
      "A value is trying to be set on a copy of a slice from a DataFrame.\n",
      "Try using .loc[row_indexer,col_indexer] = value instead\n",
      "\n",
      "See the caveats in the documentation: https://pandas.pydata.org/pandas-docs/stable/user_guide/indexing.html#returning-a-view-versus-a-copy\n",
      "  test_f[\"Player_ID\"] = le.fit_transform(test_f[\"Player_ID\"])\n"
     ]
    }
   ],
   "source": [
    "le = preprocessing.LabelEncoder()\n",
    "\n",
    "train_f[\"Game_ID\"] = le.fit_transform(train_f[\"Game_ID\"])\n",
    "game_mapping = dict(zip(le.classes_, range(len(le.classes_))))\n",
    "train_f[\"Player_ID\"] = le.fit_transform(train_f[\"Player_ID\"])\n",
    "\n",
    "\n",
    "test_f[\"Game_ID\"] = le.fit_transform(test_f[\"Game_ID\"])\n",
    "game_mapping = dict(zip(le.classes_, range(len(le.classes_))))\n",
    "test_f[\"Player_ID\"] = le.fit_transform(test_f[\"Player_ID\"])"
   ]
  },
  {
   "cell_type": "markdown",
   "id": "38fad4e5",
   "metadata": {},
   "source": [
    "- For the teams ensure they are transformed the same, you do not want a scenario where team Circinus is mapped as 1 on one column and mapped as 2 on another column, this will be inconsistent and will affect the model results"
   ]
  },
  {
   "cell_type": "code",
   "execution_count": 96,
   "id": "a361abaf",
   "metadata": {},
   "outputs": [
    {
     "name": "stderr",
     "output_type": "stream",
     "text": [
      "/var/folders/sd/lqrhfhxd16s8xnv4w6b6hjc00000gq/T/ipykernel_47224/377666118.py:1: SettingWithCopyWarning: \n",
      "A value is trying to be set on a copy of a slice from a DataFrame.\n",
      "Try using .loc[row_indexer,col_indexer] = value instead\n",
      "\n",
      "See the caveats in the documentation: https://pandas.pydata.org/pandas-docs/stable/user_guide/indexing.html#returning-a-view-versus-a-copy\n",
      "  train_f[\"Team\"] = le.fit_transform(train_f[\"Team\"])\n",
      "/var/folders/sd/lqrhfhxd16s8xnv4w6b6hjc00000gq/T/ipykernel_47224/377666118.py:5: SettingWithCopyWarning: \n",
      "A value is trying to be set on a copy of a slice from a DataFrame.\n",
      "Try using .loc[row_indexer,col_indexer] = value instead\n",
      "\n",
      "See the caveats in the documentation: https://pandas.pydata.org/pandas-docs/stable/user_guide/indexing.html#returning-a-view-versus-a-copy\n",
      "  test_f[\"Team\"] = le.fit_transform(test_f[\"Team\"])\n"
     ]
    }
   ],
   "source": [
    "train_f[\"Team\"] = le.fit_transform(train_f[\"Team\"])\n",
    "\n",
    "mapping = dict(zip(le.classes_, range(len(le.classes_))))\n",
    "\n",
    "test_f[\"Team\"] = le.fit_transform(test_f[\"Team\"])\n",
    "\n",
    "mapping = dict(zip(le.classes_, range(len(le.classes_))))"
   ]
  },
  {
   "cell_type": "code",
   "execution_count": 97,
   "id": "8bf317c8",
   "metadata": {},
   "outputs": [
    {
     "data": {
      "text/plain": [
       "{'Andromeda': 0,\n",
       " 'Antennae': 1,\n",
       " 'Backward': 2,\n",
       " 'Cartwheel': 3,\n",
       " 'Cigar': 4,\n",
       " 'Circinus': 5,\n",
       " 'Comet': 6,\n",
       " 'Cosmos Redshift 7': 7,\n",
       " 'Fireworks': 8,\n",
       " 'Malin 1': 9,\n",
       " 'Medusa Merger': 10,\n",
       " 'Milky Way': 11,\n",
       " 'Needle': 12,\n",
       " 'Sunflower': 13,\n",
       " 'Tadpole': 14,\n",
       " 'Whirlpool': 15}"
      ]
     },
     "execution_count": 97,
     "metadata": {},
     "output_type": "execute_result"
    }
   ],
   "source": [
    "mapping"
   ]
  },
  {
   "cell_type": "code",
   "execution_count": 98,
   "id": "8b42e9c7",
   "metadata": {},
   "outputs": [
    {
     "ename": "KeyError",
     "evalue": "'Coma Pinwheel'",
     "output_type": "error",
     "traceback": [
      "\u001b[0;31m---------------------------------------------------------------------------\u001b[0m",
      "\u001b[0;31mKeyError\u001b[0m                                  Traceback (most recent call last)",
      "Cell \u001b[0;32mIn[98], line 1\u001b[0m\n\u001b[0;32m----> 1\u001b[0m train_f[\u001b[39m\"\u001b[39m\u001b[39mOpposition_Team\u001b[39m\u001b[39m\"\u001b[39m] \u001b[39m=\u001b[39m train_f[\u001b[39m\"\u001b[39;49m\u001b[39mOpposition_Team\u001b[39;49m\u001b[39m\"\u001b[39;49m]\u001b[39m.\u001b[39;49mapply(\u001b[39mlambda\u001b[39;49;00m x: mapping[x])\n\u001b[1;32m      2\u001b[0m train_f[\u001b[39m\"\u001b[39m\u001b[39mHome Team\u001b[39m\u001b[39m\"\u001b[39m] \u001b[39m=\u001b[39m train_f[\u001b[39m\"\u001b[39m\u001b[39mHome Team\u001b[39m\u001b[39m\"\u001b[39m]\u001b[39m.\u001b[39mapply(\u001b[39mlambda\u001b[39;00m x: mapping[x])\n\u001b[1;32m      3\u001b[0m train_f[\u001b[39m\"\u001b[39m\u001b[39mAway Team\u001b[39m\u001b[39m\"\u001b[39m] \u001b[39m=\u001b[39m train_f[\u001b[39m\"\u001b[39m\u001b[39mAway Team\u001b[39m\u001b[39m\"\u001b[39m]\u001b[39m.\u001b[39mapply(\u001b[39mlambda\u001b[39;00m x: mapping[x])\n",
      "File \u001b[0;32m~/anaconda3/lib/python3.10/site-packages/pandas/core/series.py:4771\u001b[0m, in \u001b[0;36mSeries.apply\u001b[0;34m(self, func, convert_dtype, args, **kwargs)\u001b[0m\n\u001b[1;32m   4661\u001b[0m \u001b[39mdef\u001b[39;00m \u001b[39mapply\u001b[39m(\n\u001b[1;32m   4662\u001b[0m     \u001b[39mself\u001b[39m,\n\u001b[1;32m   4663\u001b[0m     func: AggFuncType,\n\u001b[0;32m   (...)\u001b[0m\n\u001b[1;32m   4666\u001b[0m     \u001b[39m*\u001b[39m\u001b[39m*\u001b[39mkwargs,\n\u001b[1;32m   4667\u001b[0m ) \u001b[39m-\u001b[39m\u001b[39m>\u001b[39m DataFrame \u001b[39m|\u001b[39m Series:\n\u001b[1;32m   4668\u001b[0m     \u001b[39m\"\"\"\u001b[39;00m\n\u001b[1;32m   4669\u001b[0m \u001b[39m    Invoke function on values of Series.\u001b[39;00m\n\u001b[1;32m   4670\u001b[0m \n\u001b[0;32m   (...)\u001b[0m\n\u001b[1;32m   4769\u001b[0m \u001b[39m    dtype: float64\u001b[39;00m\n\u001b[1;32m   4770\u001b[0m \u001b[39m    \"\"\"\u001b[39;00m\n\u001b[0;32m-> 4771\u001b[0m     \u001b[39mreturn\u001b[39;00m SeriesApply(\u001b[39mself\u001b[39;49m, func, convert_dtype, args, kwargs)\u001b[39m.\u001b[39;49mapply()\n",
      "File \u001b[0;32m~/anaconda3/lib/python3.10/site-packages/pandas/core/apply.py:1123\u001b[0m, in \u001b[0;36mSeriesApply.apply\u001b[0;34m(self)\u001b[0m\n\u001b[1;32m   1120\u001b[0m     \u001b[39mreturn\u001b[39;00m \u001b[39mself\u001b[39m\u001b[39m.\u001b[39mapply_str()\n\u001b[1;32m   1122\u001b[0m \u001b[39m# self.f is Callable\u001b[39;00m\n\u001b[0;32m-> 1123\u001b[0m \u001b[39mreturn\u001b[39;00m \u001b[39mself\u001b[39;49m\u001b[39m.\u001b[39;49mapply_standard()\n",
      "File \u001b[0;32m~/anaconda3/lib/python3.10/site-packages/pandas/core/apply.py:1174\u001b[0m, in \u001b[0;36mSeriesApply.apply_standard\u001b[0;34m(self)\u001b[0m\n\u001b[1;32m   1172\u001b[0m     \u001b[39melse\u001b[39;00m:\n\u001b[1;32m   1173\u001b[0m         values \u001b[39m=\u001b[39m obj\u001b[39m.\u001b[39mastype(\u001b[39mobject\u001b[39m)\u001b[39m.\u001b[39m_values\n\u001b[0;32m-> 1174\u001b[0m         mapped \u001b[39m=\u001b[39m lib\u001b[39m.\u001b[39;49mmap_infer(\n\u001b[1;32m   1175\u001b[0m             values,\n\u001b[1;32m   1176\u001b[0m             f,\n\u001b[1;32m   1177\u001b[0m             convert\u001b[39m=\u001b[39;49m\u001b[39mself\u001b[39;49m\u001b[39m.\u001b[39;49mconvert_dtype,\n\u001b[1;32m   1178\u001b[0m         )\n\u001b[1;32m   1180\u001b[0m \u001b[39mif\u001b[39;00m \u001b[39mlen\u001b[39m(mapped) \u001b[39mand\u001b[39;00m \u001b[39misinstance\u001b[39m(mapped[\u001b[39m0\u001b[39m], ABCSeries):\n\u001b[1;32m   1181\u001b[0m     \u001b[39m# GH#43986 Need to do list(mapped) in order to get treated as nested\u001b[39;00m\n\u001b[1;32m   1182\u001b[0m     \u001b[39m#  See also GH#25959 regarding EA support\u001b[39;00m\n\u001b[1;32m   1183\u001b[0m     \u001b[39mreturn\u001b[39;00m obj\u001b[39m.\u001b[39m_constructor_expanddim(\u001b[39mlist\u001b[39m(mapped), index\u001b[39m=\u001b[39mobj\u001b[39m.\u001b[39mindex)\n",
      "File \u001b[0;32m~/anaconda3/lib/python3.10/site-packages/pandas/_libs/lib.pyx:2924\u001b[0m, in \u001b[0;36mpandas._libs.lib.map_infer\u001b[0;34m()\u001b[0m\n",
      "Cell \u001b[0;32mIn[98], line 1\u001b[0m, in \u001b[0;36m<lambda>\u001b[0;34m(x)\u001b[0m\n\u001b[0;32m----> 1\u001b[0m train_f[\u001b[39m\"\u001b[39m\u001b[39mOpposition_Team\u001b[39m\u001b[39m\"\u001b[39m] \u001b[39m=\u001b[39m train_f[\u001b[39m\"\u001b[39m\u001b[39mOpposition_Team\u001b[39m\u001b[39m\"\u001b[39m]\u001b[39m.\u001b[39mapply(\u001b[39mlambda\u001b[39;00m x: mapping[x])\n\u001b[1;32m      2\u001b[0m train_f[\u001b[39m\"\u001b[39m\u001b[39mHome Team\u001b[39m\u001b[39m\"\u001b[39m] \u001b[39m=\u001b[39m train_f[\u001b[39m\"\u001b[39m\u001b[39mHome Team\u001b[39m\u001b[39m\"\u001b[39m]\u001b[39m.\u001b[39mapply(\u001b[39mlambda\u001b[39;00m x: mapping[x])\n\u001b[1;32m      3\u001b[0m train_f[\u001b[39m\"\u001b[39m\u001b[39mAway Team\u001b[39m\u001b[39m\"\u001b[39m] \u001b[39m=\u001b[39m train_f[\u001b[39m\"\u001b[39m\u001b[39mAway Team\u001b[39m\u001b[39m\"\u001b[39m]\u001b[39m.\u001b[39mapply(\u001b[39mlambda\u001b[39;00m x: mapping[x])\n",
      "\u001b[0;31mKeyError\u001b[0m: 'Coma Pinwheel'"
     ]
    }
   ],
   "source": [
    "train_f[\"Opposition_Team\"] = train_f[\"Opposition_Team\"].apply(lambda x: mapping[x])\n",
    "train_f[\"Home Team\"] = train_f[\"Home Team\"].apply(lambda x: mapping[x])\n",
    "train_f[\"Away Team\"] = train_f[\"Away Team\"].apply(lambda x: mapping[x])\n",
    "\n",
    "test_f[\"Opposition_Team\"] = test_f[\"Opposition_Team\"].apply(lambda x: mapping[x])\n",
    "test_f[\"Home Team\"] = test_f[\"Home Team\"].apply(lambda x: mapping[x])\n",
    "test_f[\"Away Team\"] = test_f[\"Away Team\"].apply(lambda x: mapping[x])"
   ]
  },
  {
   "cell_type": "code",
   "execution_count": null,
   "id": "759d5fc4",
   "metadata": {},
   "outputs": [],
   "source": [
    "train_f[\"Action\"] = le.fit_transform(train_f[\"Action\"])\n",
    "train_f[\"Half\"] = le.fit_transform(train_f[\"Half\"])\n",
    "train_f[\"Manager\"] = le.fit_transform(train_f[\"Manager\"])\n",
    "\n",
    "test_f[\"Action\"] = le.fit_transform(test_f[\"Action\"])\n",
    "test_f[\"Half\"] = le.fit_transform(test_f[\"Half\"])\n",
    "test_f[\"Manager\"] = le.fit_transform(test_f[\"Manager\"])"
   ]
  },
  {
   "cell_type": "markdown",
   "id": "d227765e",
   "metadata": {},
   "source": [
    "- For this nb, I'll drop most of the columns that have alot on NAN values, you can choose to fill those NAN values since the columns might be worth including in the modeling\n",
    "\n",
    "- I'll drop also the column in train game statistics not present in the test game stats; you can use these columns for more analysis and feature engineering."
   ]
  },
  {
   "cell_type": "code",
   "execution_count": null,
   "id": "59c58fe2",
   "metadata": {},
   "outputs": [],
   "source": [
    "train_f.drop([\"next_player\", \"next_action\", \"next_x\", \"next_y\", \"event_id\", \"next_team\",\n",
    "               \"next_event_id\", \"xt_value\", \"Date\", \"Goals_scored\", \"Goals_conceded\", \"Action\",], axis=1, inplace=True)\n",
    "\n",
    "test_f.drop([\"next_player\", \"next_action\", \"next_x\", \"next_y\", \"event_id\", \"next_team\",\n",
    "               \"next_event_id\", \"xt_value\", \"Date\", \"Goals_scored\", \"Goals_conceded\", \"Action\",], axis=1, inplace=True)"
   ]
  },
  {
   "cell_type": "code",
   "execution_count": null,
   "id": "c730152a",
   "metadata": {},
   "outputs": [
    {
     "name": "stderr",
     "output_type": "stream",
     "text": [
      "/var/folders/sd/lqrhfhxd16s8xnv4w6b6hjc00000gq/T/ipykernel_47224/3684393416.py:2: SettingWithCopyWarning: \n",
      "A value is trying to be set on a copy of a slice from a DataFrame\n",
      "\n",
      "See the caveats in the documentation: https://pandas.pydata.org/pandas-docs/stable/user_guide/indexing.html#returning-a-view-versus-a-copy\n",
      "  Train.drop(\"Train\", axis=1, inplace=True)\n",
      "/var/folders/sd/lqrhfhxd16s8xnv4w6b6hjc00000gq/T/ipykernel_47224/3684393416.py:4: SettingWithCopyWarning: \n",
      "A value is trying to be set on a copy of a slice from a DataFrame\n",
      "\n",
      "See the caveats in the documentation: https://pandas.pydata.org/pandas-docs/stable/user_guide/indexing.html#returning-a-view-versus-a-copy\n",
      "  Test.drop([\"Train\", \"Score\"], axis=1, inplace=True)\n"
     ]
    }
   ],
   "source": [
    "Train =train_f[train_f[\"Train\"] == 1]\n",
    "Train.drop(\"Train\", axis=1, inplace=True)\n",
    "Test = test_f[test_f[\"Train\"] == 0]\n",
    "Test.drop([\"Train\", \"Score\"], axis=1, inplace=True)\n",
    "Test = Test.reset_index(drop=True)"
   ]
  },
  {
   "cell_type": "code",
   "execution_count": null,
   "id": "7dfabca9",
   "metadata": {},
   "outputs": [
    {
     "data": {
      "text/plain": [
       "((1571577, 22), (780234, 21))"
      ]
     },
     "execution_count": 37,
     "metadata": {},
     "output_type": "execute_result"
    }
   ],
   "source": [
    "Train.shape, Test.shape"
   ]
  },
  {
   "cell_type": "code",
   "execution_count": null,
   "id": "b56f951d",
   "metadata": {},
   "outputs": [
    {
     "data": {
      "text/html": [
       "<div>\n",
       "<style scoped>\n",
       "    .dataframe tbody tr th:only-of-type {\n",
       "        vertical-align: middle;\n",
       "    }\n",
       "\n",
       "    .dataframe tbody tr th {\n",
       "        vertical-align: top;\n",
       "    }\n",
       "\n",
       "    .dataframe thead th {\n",
       "        text-align: right;\n",
       "    }\n",
       "</style>\n",
       "<table border=\"1\" class=\"dataframe\">\n",
       "  <thead>\n",
       "    <tr style=\"text-align: right;\">\n",
       "      <th></th>\n",
       "      <th>Game_ID</th>\n",
       "      <th>Player_ID</th>\n",
       "      <th>id</th>\n",
       "      <th>X</th>\n",
       "      <th>Y</th>\n",
       "      <th>Team</th>\n",
       "      <th>Half</th>\n",
       "      <th>Season_x</th>\n",
       "      <th>Manager</th>\n",
       "      <th>Opposition_Team</th>\n",
       "      <th>Shots</th>\n",
       "      <th>SoT</th>\n",
       "      <th>Accurate passes</th>\n",
       "      <th>Inaccurate passes</th>\n",
       "      <th>Passes</th>\n",
       "      <th>Start_minutes</th>\n",
       "      <th>End_minutes</th>\n",
       "      <th>Season_y</th>\n",
       "      <th>Match_ID</th>\n",
       "      <th>Home Team</th>\n",
       "      <th>Away Team</th>\n",
       "      <th>Score</th>\n",
       "    </tr>\n",
       "  </thead>\n",
       "  <tbody>\n",
       "    <tr>\n",
       "      <th>0</th>\n",
       "      <td>645</td>\n",
       "      <td>534</td>\n",
       "      <td>1.0</td>\n",
       "      <td>52.5</td>\n",
       "      <td>34.0</td>\n",
       "      <td>6</td>\n",
       "      <td>0</td>\n",
       "      <td>2</td>\n",
       "      <td>52</td>\n",
       "      <td>2</td>\n",
       "      <td>0.0</td>\n",
       "      <td>0.0</td>\n",
       "      <td>1.0</td>\n",
       "      <td>0.0</td>\n",
       "      <td>1.0</td>\n",
       "      <td>0.03</td>\n",
       "      <td>0.37</td>\n",
       "      <td>2</td>\n",
       "      <td>39.0</td>\n",
       "      <td>2</td>\n",
       "      <td>6</td>\n",
       "      <td>Home Win</td>\n",
       "    </tr>\n",
       "    <tr>\n",
       "      <th>1</th>\n",
       "      <td>645</td>\n",
       "      <td>534</td>\n",
       "      <td>2.0</td>\n",
       "      <td>52.5</td>\n",
       "      <td>34.0</td>\n",
       "      <td>6</td>\n",
       "      <td>0</td>\n",
       "      <td>2</td>\n",
       "      <td>52</td>\n",
       "      <td>2</td>\n",
       "      <td>0.0</td>\n",
       "      <td>0.0</td>\n",
       "      <td>0.0</td>\n",
       "      <td>0.0</td>\n",
       "      <td>0.0</td>\n",
       "      <td>0.03</td>\n",
       "      <td>0.37</td>\n",
       "      <td>2</td>\n",
       "      <td>39.0</td>\n",
       "      <td>2</td>\n",
       "      <td>6</td>\n",
       "      <td>Home Win</td>\n",
       "    </tr>\n",
       "  </tbody>\n",
       "</table>\n",
       "</div>"
      ],
      "text/plain": [
       "   Game_ID  Player_ID   id     X     Y  Team  Half  Season_x  Manager  \\\n",
       "0      645        534  1.0  52.5  34.0     6     0         2       52   \n",
       "1      645        534  2.0  52.5  34.0     6     0         2       52   \n",
       "\n",
       "   Opposition_Team  Shots  SoT  Accurate passes  Inaccurate passes  Passes  \\\n",
       "0                2    0.0  0.0              1.0                0.0     1.0   \n",
       "1                2    0.0  0.0              0.0                0.0     0.0   \n",
       "\n",
       "   Start_minutes  End_minutes  Season_y  Match_ID  Home Team  Away Team  \\\n",
       "0           0.03         0.37         2      39.0          2          6   \n",
       "1           0.03         0.37         2      39.0          2          6   \n",
       "\n",
       "      Score  \n",
       "0  Home Win  \n",
       "1  Home Win  "
      ]
     },
     "execution_count": 38,
     "metadata": {},
     "output_type": "execute_result"
    }
   ],
   "source": [
    "Train.head(2)"
   ]
  },
  {
   "cell_type": "code",
   "execution_count": null,
   "id": "b5c3b70c",
   "metadata": {},
   "outputs": [
    {
     "data": {
      "text/html": [
       "<div>\n",
       "<style scoped>\n",
       "    .dataframe tbody tr th:only-of-type {\n",
       "        vertical-align: middle;\n",
       "    }\n",
       "\n",
       "    .dataframe tbody tr th {\n",
       "        vertical-align: top;\n",
       "    }\n",
       "\n",
       "    .dataframe thead th {\n",
       "        text-align: right;\n",
       "    }\n",
       "</style>\n",
       "<table border=\"1\" class=\"dataframe\">\n",
       "  <thead>\n",
       "    <tr style=\"text-align: right;\">\n",
       "      <th></th>\n",
       "      <th>Game_ID</th>\n",
       "      <th>Player_ID</th>\n",
       "      <th>id</th>\n",
       "      <th>X</th>\n",
       "      <th>Y</th>\n",
       "      <th>Team</th>\n",
       "      <th>Half</th>\n",
       "      <th>Season_x</th>\n",
       "      <th>Manager</th>\n",
       "      <th>Opposition_Team</th>\n",
       "      <th>Shots</th>\n",
       "      <th>SoT</th>\n",
       "      <th>Accurate passes</th>\n",
       "      <th>Inaccurate passes</th>\n",
       "      <th>Passes</th>\n",
       "      <th>Start_minutes</th>\n",
       "      <th>End_minutes</th>\n",
       "      <th>Season_y</th>\n",
       "      <th>Match_ID</th>\n",
       "      <th>Home Team</th>\n",
       "      <th>Away Team</th>\n",
       "    </tr>\n",
       "  </thead>\n",
       "  <tbody>\n",
       "    <tr>\n",
       "      <th>0</th>\n",
       "      <td>640</td>\n",
       "      <td>106</td>\n",
       "      <td>1.0</td>\n",
       "      <td>52.5</td>\n",
       "      <td>34.0</td>\n",
       "      <td>14</td>\n",
       "      <td>0</td>\n",
       "      <td>3</td>\n",
       "      <td>40</td>\n",
       "      <td>18</td>\n",
       "      <td>0.0</td>\n",
       "      <td>0.0</td>\n",
       "      <td>1.0</td>\n",
       "      <td>0.0</td>\n",
       "      <td>1.0</td>\n",
       "      <td>0.68</td>\n",
       "      <td>1.02</td>\n",
       "      <td>3</td>\n",
       "      <td>158.0</td>\n",
       "      <td>18</td>\n",
       "      <td>14</td>\n",
       "    </tr>\n",
       "    <tr>\n",
       "      <th>1</th>\n",
       "      <td>640</td>\n",
       "      <td>106</td>\n",
       "      <td>2.0</td>\n",
       "      <td>52.5</td>\n",
       "      <td>34.0</td>\n",
       "      <td>14</td>\n",
       "      <td>0</td>\n",
       "      <td>3</td>\n",
       "      <td>40</td>\n",
       "      <td>18</td>\n",
       "      <td>0.0</td>\n",
       "      <td>0.0</td>\n",
       "      <td>0.0</td>\n",
       "      <td>0.0</td>\n",
       "      <td>0.0</td>\n",
       "      <td>0.68</td>\n",
       "      <td>1.02</td>\n",
       "      <td>3</td>\n",
       "      <td>158.0</td>\n",
       "      <td>18</td>\n",
       "      <td>14</td>\n",
       "    </tr>\n",
       "  </tbody>\n",
       "</table>\n",
       "</div>"
      ],
      "text/plain": [
       "   Game_ID  Player_ID   id     X     Y  Team  Half  Season_x  Manager  \\\n",
       "0      640        106  1.0  52.5  34.0    14     0         3       40   \n",
       "1      640        106  2.0  52.5  34.0    14     0         3       40   \n",
       "\n",
       "   Opposition_Team  Shots  SoT  Accurate passes  Inaccurate passes  Passes  \\\n",
       "0               18    0.0  0.0              1.0                0.0     1.0   \n",
       "1               18    0.0  0.0              0.0                0.0     0.0   \n",
       "\n",
       "   Start_minutes  End_minutes  Season_y  Match_ID  Home Team  Away Team  \n",
       "0           0.68         1.02         3     158.0         18         14  \n",
       "1           0.68         1.02         3     158.0         18         14  "
      ]
     },
     "execution_count": 39,
     "metadata": {},
     "output_type": "execute_result"
    }
   ],
   "source": [
    "Test.head(2)"
   ]
  },
  {
   "cell_type": "code",
   "execution_count": null,
   "id": "892c51d1",
   "metadata": {},
   "outputs": [
    {
     "name": "stderr",
     "output_type": "stream",
     "text": [
      "/var/folders/sd/lqrhfhxd16s8xnv4w6b6hjc00000gq/T/ipykernel_47224/3210478053.py:2: SettingWithCopyWarning: \n",
      "A value is trying to be set on a copy of a slice from a DataFrame.\n",
      "Try using .loc[row_indexer,col_indexer] = value instead\n",
      "\n",
      "See the caveats in the documentation: https://pandas.pydata.org/pandas-docs/stable/user_guide/indexing.html#returning-a-view-versus-a-copy\n",
      "  Train[\"Score\"] = le.fit_transform(Train[\"Score\"])\n"
     ]
    }
   ],
   "source": [
    "# to avoid nans, will map score only in the training set\n",
    "Train[\"Score\"] = le.fit_transform(Train[\"Score\"])\n",
    "score_mapping = dict(zip(le.classes_, range(len(le.classes_))))"
   ]
  },
  {
   "cell_type": "code",
   "execution_count": null,
   "id": "a85c02dc",
   "metadata": {},
   "outputs": [
    {
     "data": {
      "text/plain": [
       "{'Away win': 0, 'Draw': 1, 'Home Win': 2}"
      ]
     },
     "execution_count": 41,
     "metadata": {},
     "output_type": "execute_result"
    }
   ],
   "source": [
    "score_mapping"
   ]
  },
  {
   "cell_type": "markdown",
   "id": "cce9abf3",
   "metadata": {},
   "source": [
    "### Modelling\n",
    "\n",
    "- This is a classification problem that require using classification machine learning algorithms"
   ]
  },
  {
   "cell_type": "code",
   "execution_count": null,
   "id": "096bc952",
   "metadata": {},
   "outputs": [],
   "source": [
    "X = Train.drop(columns=[\"Game_ID\",\"Score\"], axis=1)\n",
    "y = Train[\"Score\"]"
   ]
  },
  {
   "cell_type": "code",
   "execution_count": null,
   "id": "f3906465",
   "metadata": {},
   "outputs": [],
   "source": [
    "X_test= test_f"
   ]
  },
  {
   "cell_type": "code",
   "execution_count": null,
   "id": "b20f8f17",
   "metadata": {},
   "outputs": [
    {
     "data": {
      "text/html": [
       "<style>#sk-container-id-1 {color: black;background-color: white;}#sk-container-id-1 pre{padding: 0;}#sk-container-id-1 div.sk-toggleable {background-color: white;}#sk-container-id-1 label.sk-toggleable__label {cursor: pointer;display: block;width: 100%;margin-bottom: 0;padding: 0.3em;box-sizing: border-box;text-align: center;}#sk-container-id-1 label.sk-toggleable__label-arrow:before {content: \"▸\";float: left;margin-right: 0.25em;color: #696969;}#sk-container-id-1 label.sk-toggleable__label-arrow:hover:before {color: black;}#sk-container-id-1 div.sk-estimator:hover label.sk-toggleable__label-arrow:before {color: black;}#sk-container-id-1 div.sk-toggleable__content {max-height: 0;max-width: 0;overflow: hidden;text-align: left;background-color: #f0f8ff;}#sk-container-id-1 div.sk-toggleable__content pre {margin: 0.2em;color: black;border-radius: 0.25em;background-color: #f0f8ff;}#sk-container-id-1 input.sk-toggleable__control:checked~div.sk-toggleable__content {max-height: 200px;max-width: 100%;overflow: auto;}#sk-container-id-1 input.sk-toggleable__control:checked~label.sk-toggleable__label-arrow:before {content: \"▾\";}#sk-container-id-1 div.sk-estimator input.sk-toggleable__control:checked~label.sk-toggleable__label {background-color: #d4ebff;}#sk-container-id-1 div.sk-label input.sk-toggleable__control:checked~label.sk-toggleable__label {background-color: #d4ebff;}#sk-container-id-1 input.sk-hidden--visually {border: 0;clip: rect(1px 1px 1px 1px);clip: rect(1px, 1px, 1px, 1px);height: 1px;margin: -1px;overflow: hidden;padding: 0;position: absolute;width: 1px;}#sk-container-id-1 div.sk-estimator {font-family: monospace;background-color: #f0f8ff;border: 1px dotted black;border-radius: 0.25em;box-sizing: border-box;margin-bottom: 0.5em;}#sk-container-id-1 div.sk-estimator:hover {background-color: #d4ebff;}#sk-container-id-1 div.sk-parallel-item::after {content: \"\";width: 100%;border-bottom: 1px solid gray;flex-grow: 1;}#sk-container-id-1 div.sk-label:hover label.sk-toggleable__label {background-color: #d4ebff;}#sk-container-id-1 div.sk-serial::before {content: \"\";position: absolute;border-left: 1px solid gray;box-sizing: border-box;top: 0;bottom: 0;left: 50%;z-index: 0;}#sk-container-id-1 div.sk-serial {display: flex;flex-direction: column;align-items: center;background-color: white;padding-right: 0.2em;padding-left: 0.2em;position: relative;}#sk-container-id-1 div.sk-item {position: relative;z-index: 1;}#sk-container-id-1 div.sk-parallel {display: flex;align-items: stretch;justify-content: center;background-color: white;position: relative;}#sk-container-id-1 div.sk-item::before, #sk-container-id-1 div.sk-parallel-item::before {content: \"\";position: absolute;border-left: 1px solid gray;box-sizing: border-box;top: 0;bottom: 0;left: 50%;z-index: -1;}#sk-container-id-1 div.sk-parallel-item {display: flex;flex-direction: column;z-index: 1;position: relative;background-color: white;}#sk-container-id-1 div.sk-parallel-item:first-child::after {align-self: flex-end;width: 50%;}#sk-container-id-1 div.sk-parallel-item:last-child::after {align-self: flex-start;width: 50%;}#sk-container-id-1 div.sk-parallel-item:only-child::after {width: 0;}#sk-container-id-1 div.sk-dashed-wrapped {border: 1px dashed gray;margin: 0 0.4em 0.5em 0.4em;box-sizing: border-box;padding-bottom: 0.4em;background-color: white;}#sk-container-id-1 div.sk-label label {font-family: monospace;font-weight: bold;display: inline-block;line-height: 1.2em;}#sk-container-id-1 div.sk-label-container {text-align: center;}#sk-container-id-1 div.sk-container {/* jupyter's `normalize.less` sets `[hidden] { display: none; }` but bootstrap.min.css set `[hidden] { display: none !important; }` so we also need the `!important` here to be able to override the default hidden behavior on the sphinx rendered scikit-learn.org. See: https://github.com/scikit-learn/scikit-learn/issues/21755 */display: inline-block !important;position: relative;}#sk-container-id-1 div.sk-text-repr-fallback {display: none;}</style><div id=\"sk-container-id-1\" class=\"sk-top-container\"><div class=\"sk-text-repr-fallback\"><pre>RandomForestClassifier()</pre><b>In a Jupyter environment, please rerun this cell to show the HTML representation or trust the notebook. <br />On GitHub, the HTML representation is unable to render, please try loading this page with nbviewer.org.</b></div><div class=\"sk-container\" hidden><div class=\"sk-item\"><div class=\"sk-estimator sk-toggleable\"><input class=\"sk-toggleable__control sk-hidden--visually\" id=\"sk-estimator-id-1\" type=\"checkbox\" checked><label for=\"sk-estimator-id-1\" class=\"sk-toggleable__label sk-toggleable__label-arrow\">RandomForestClassifier</label><div class=\"sk-toggleable__content\"><pre>RandomForestClassifier()</pre></div></div></div></div></div>"
      ],
      "text/plain": [
       "RandomForestClassifier()"
      ]
     },
     "execution_count": 43,
     "metadata": {},
     "output_type": "execute_result"
    }
   ],
   "source": [
    "clf = RandomForestClassifier()\n",
    "clf.fit(X, y)"
   ]
  },
  {
   "cell_type": "code",
   "execution_count": null,
   "id": "a395822d",
   "metadata": {},
   "outputs": [
    {
     "data": {
      "text/html": [
       "<style>#sk-container-id-2 {color: black;background-color: white;}#sk-container-id-2 pre{padding: 0;}#sk-container-id-2 div.sk-toggleable {background-color: white;}#sk-container-id-2 label.sk-toggleable__label {cursor: pointer;display: block;width: 100%;margin-bottom: 0;padding: 0.3em;box-sizing: border-box;text-align: center;}#sk-container-id-2 label.sk-toggleable__label-arrow:before {content: \"▸\";float: left;margin-right: 0.25em;color: #696969;}#sk-container-id-2 label.sk-toggleable__label-arrow:hover:before {color: black;}#sk-container-id-2 div.sk-estimator:hover label.sk-toggleable__label-arrow:before {color: black;}#sk-container-id-2 div.sk-toggleable__content {max-height: 0;max-width: 0;overflow: hidden;text-align: left;background-color: #f0f8ff;}#sk-container-id-2 div.sk-toggleable__content pre {margin: 0.2em;color: black;border-radius: 0.25em;background-color: #f0f8ff;}#sk-container-id-2 input.sk-toggleable__control:checked~div.sk-toggleable__content {max-height: 200px;max-width: 100%;overflow: auto;}#sk-container-id-2 input.sk-toggleable__control:checked~label.sk-toggleable__label-arrow:before {content: \"▾\";}#sk-container-id-2 div.sk-estimator input.sk-toggleable__control:checked~label.sk-toggleable__label {background-color: #d4ebff;}#sk-container-id-2 div.sk-label input.sk-toggleable__control:checked~label.sk-toggleable__label {background-color: #d4ebff;}#sk-container-id-2 input.sk-hidden--visually {border: 0;clip: rect(1px 1px 1px 1px);clip: rect(1px, 1px, 1px, 1px);height: 1px;margin: -1px;overflow: hidden;padding: 0;position: absolute;width: 1px;}#sk-container-id-2 div.sk-estimator {font-family: monospace;background-color: #f0f8ff;border: 1px dotted black;border-radius: 0.25em;box-sizing: border-box;margin-bottom: 0.5em;}#sk-container-id-2 div.sk-estimator:hover {background-color: #d4ebff;}#sk-container-id-2 div.sk-parallel-item::after {content: \"\";width: 100%;border-bottom: 1px solid gray;flex-grow: 1;}#sk-container-id-2 div.sk-label:hover label.sk-toggleable__label {background-color: #d4ebff;}#sk-container-id-2 div.sk-serial::before {content: \"\";position: absolute;border-left: 1px solid gray;box-sizing: border-box;top: 0;bottom: 0;left: 50%;z-index: 0;}#sk-container-id-2 div.sk-serial {display: flex;flex-direction: column;align-items: center;background-color: white;padding-right: 0.2em;padding-left: 0.2em;position: relative;}#sk-container-id-2 div.sk-item {position: relative;z-index: 1;}#sk-container-id-2 div.sk-parallel {display: flex;align-items: stretch;justify-content: center;background-color: white;position: relative;}#sk-container-id-2 div.sk-item::before, #sk-container-id-2 div.sk-parallel-item::before {content: \"\";position: absolute;border-left: 1px solid gray;box-sizing: border-box;top: 0;bottom: 0;left: 50%;z-index: -1;}#sk-container-id-2 div.sk-parallel-item {display: flex;flex-direction: column;z-index: 1;position: relative;background-color: white;}#sk-container-id-2 div.sk-parallel-item:first-child::after {align-self: flex-end;width: 50%;}#sk-container-id-2 div.sk-parallel-item:last-child::after {align-self: flex-start;width: 50%;}#sk-container-id-2 div.sk-parallel-item:only-child::after {width: 0;}#sk-container-id-2 div.sk-dashed-wrapped {border: 1px dashed gray;margin: 0 0.4em 0.5em 0.4em;box-sizing: border-box;padding-bottom: 0.4em;background-color: white;}#sk-container-id-2 div.sk-label label {font-family: monospace;font-weight: bold;display: inline-block;line-height: 1.2em;}#sk-container-id-2 div.sk-label-container {text-align: center;}#sk-container-id-2 div.sk-container {/* jupyter's `normalize.less` sets `[hidden] { display: none; }` but bootstrap.min.css set `[hidden] { display: none !important; }` so we also need the `!important` here to be able to override the default hidden behavior on the sphinx rendered scikit-learn.org. See: https://github.com/scikit-learn/scikit-learn/issues/21755 */display: inline-block !important;position: relative;}#sk-container-id-2 div.sk-text-repr-fallback {display: none;}</style><div id=\"sk-container-id-2\" class=\"sk-top-container\"><div class=\"sk-text-repr-fallback\"><pre>DecisionTreeClassifier()</pre><b>In a Jupyter environment, please rerun this cell to show the HTML representation or trust the notebook. <br />On GitHub, the HTML representation is unable to render, please try loading this page with nbviewer.org.</b></div><div class=\"sk-container\" hidden><div class=\"sk-item\"><div class=\"sk-estimator sk-toggleable\"><input class=\"sk-toggleable__control sk-hidden--visually\" id=\"sk-estimator-id-2\" type=\"checkbox\" checked><label for=\"sk-estimator-id-2\" class=\"sk-toggleable__label sk-toggleable__label-arrow\">DecisionTreeClassifier</label><div class=\"sk-toggleable__content\"><pre>DecisionTreeClassifier()</pre></div></div></div></div></div>"
      ],
      "text/plain": [
       "DecisionTreeClassifier()"
      ]
     },
     "execution_count": 44,
     "metadata": {},
     "output_type": "execute_result"
    }
   ],
   "source": [
    "from sklearn.tree import DecisionTreeClassifier\n",
    "dt = DecisionTreeClassifier()  \n",
    "dt.fit(X, y) "
   ]
  },
  {
   "cell_type": "code",
   "execution_count": null,
   "id": "ce3557c2",
   "metadata": {},
   "outputs": [
    {
     "data": {
      "text/html": [
       "<style>#sk-container-id-3 {color: black;background-color: white;}#sk-container-id-3 pre{padding: 0;}#sk-container-id-3 div.sk-toggleable {background-color: white;}#sk-container-id-3 label.sk-toggleable__label {cursor: pointer;display: block;width: 100%;margin-bottom: 0;padding: 0.3em;box-sizing: border-box;text-align: center;}#sk-container-id-3 label.sk-toggleable__label-arrow:before {content: \"▸\";float: left;margin-right: 0.25em;color: #696969;}#sk-container-id-3 label.sk-toggleable__label-arrow:hover:before {color: black;}#sk-container-id-3 div.sk-estimator:hover label.sk-toggleable__label-arrow:before {color: black;}#sk-container-id-3 div.sk-toggleable__content {max-height: 0;max-width: 0;overflow: hidden;text-align: left;background-color: #f0f8ff;}#sk-container-id-3 div.sk-toggleable__content pre {margin: 0.2em;color: black;border-radius: 0.25em;background-color: #f0f8ff;}#sk-container-id-3 input.sk-toggleable__control:checked~div.sk-toggleable__content {max-height: 200px;max-width: 100%;overflow: auto;}#sk-container-id-3 input.sk-toggleable__control:checked~label.sk-toggleable__label-arrow:before {content: \"▾\";}#sk-container-id-3 div.sk-estimator input.sk-toggleable__control:checked~label.sk-toggleable__label {background-color: #d4ebff;}#sk-container-id-3 div.sk-label input.sk-toggleable__control:checked~label.sk-toggleable__label {background-color: #d4ebff;}#sk-container-id-3 input.sk-hidden--visually {border: 0;clip: rect(1px 1px 1px 1px);clip: rect(1px, 1px, 1px, 1px);height: 1px;margin: -1px;overflow: hidden;padding: 0;position: absolute;width: 1px;}#sk-container-id-3 div.sk-estimator {font-family: monospace;background-color: #f0f8ff;border: 1px dotted black;border-radius: 0.25em;box-sizing: border-box;margin-bottom: 0.5em;}#sk-container-id-3 div.sk-estimator:hover {background-color: #d4ebff;}#sk-container-id-3 div.sk-parallel-item::after {content: \"\";width: 100%;border-bottom: 1px solid gray;flex-grow: 1;}#sk-container-id-3 div.sk-label:hover label.sk-toggleable__label {background-color: #d4ebff;}#sk-container-id-3 div.sk-serial::before {content: \"\";position: absolute;border-left: 1px solid gray;box-sizing: border-box;top: 0;bottom: 0;left: 50%;z-index: 0;}#sk-container-id-3 div.sk-serial {display: flex;flex-direction: column;align-items: center;background-color: white;padding-right: 0.2em;padding-left: 0.2em;position: relative;}#sk-container-id-3 div.sk-item {position: relative;z-index: 1;}#sk-container-id-3 div.sk-parallel {display: flex;align-items: stretch;justify-content: center;background-color: white;position: relative;}#sk-container-id-3 div.sk-item::before, #sk-container-id-3 div.sk-parallel-item::before {content: \"\";position: absolute;border-left: 1px solid gray;box-sizing: border-box;top: 0;bottom: 0;left: 50%;z-index: -1;}#sk-container-id-3 div.sk-parallel-item {display: flex;flex-direction: column;z-index: 1;position: relative;background-color: white;}#sk-container-id-3 div.sk-parallel-item:first-child::after {align-self: flex-end;width: 50%;}#sk-container-id-3 div.sk-parallel-item:last-child::after {align-self: flex-start;width: 50%;}#sk-container-id-3 div.sk-parallel-item:only-child::after {width: 0;}#sk-container-id-3 div.sk-dashed-wrapped {border: 1px dashed gray;margin: 0 0.4em 0.5em 0.4em;box-sizing: border-box;padding-bottom: 0.4em;background-color: white;}#sk-container-id-3 div.sk-label label {font-family: monospace;font-weight: bold;display: inline-block;line-height: 1.2em;}#sk-container-id-3 div.sk-label-container {text-align: center;}#sk-container-id-3 div.sk-container {/* jupyter's `normalize.less` sets `[hidden] { display: none; }` but bootstrap.min.css set `[hidden] { display: none !important; }` so we also need the `!important` here to be able to override the default hidden behavior on the sphinx rendered scikit-learn.org. See: https://github.com/scikit-learn/scikit-learn/issues/21755 */display: inline-block !important;position: relative;}#sk-container-id-3 div.sk-text-repr-fallback {display: none;}</style><div id=\"sk-container-id-3\" class=\"sk-top-container\"><div class=\"sk-text-repr-fallback\"><pre>KNeighborsClassifier()</pre><b>In a Jupyter environment, please rerun this cell to show the HTML representation or trust the notebook. <br />On GitHub, the HTML representation is unable to render, please try loading this page with nbviewer.org.</b></div><div class=\"sk-container\" hidden><div class=\"sk-item\"><div class=\"sk-estimator sk-toggleable\"><input class=\"sk-toggleable__control sk-hidden--visually\" id=\"sk-estimator-id-3\" type=\"checkbox\" checked><label for=\"sk-estimator-id-3\" class=\"sk-toggleable__label sk-toggleable__label-arrow\">KNeighborsClassifier</label><div class=\"sk-toggleable__content\"><pre>KNeighborsClassifier()</pre></div></div></div></div></div>"
      ],
      "text/plain": [
       "KNeighborsClassifier()"
      ]
     },
     "execution_count": 45,
     "metadata": {},
     "output_type": "execute_result"
    }
   ],
   "source": [
    "from sklearn.neighbors import KNeighborsClassifier\n",
    "\n",
    "knn_classifier = KNeighborsClassifier()\n",
    "knn_classifier.fit(X, y)\n",
    "\n",
    "# Make predictions on the test set\n",
    "#_pred = knn_classifier.predict(Test)"
   ]
  },
  {
   "cell_type": "code",
   "execution_count": null,
   "id": "7ad1f953",
   "metadata": {},
   "outputs": [
    {
     "data": {
      "text/html": [
       "<div>\n",
       "<style scoped>\n",
       "    .dataframe tbody tr th:only-of-type {\n",
       "        vertical-align: middle;\n",
       "    }\n",
       "\n",
       "    .dataframe tbody tr th {\n",
       "        vertical-align: top;\n",
       "    }\n",
       "\n",
       "    .dataframe thead th {\n",
       "        text-align: right;\n",
       "    }\n",
       "</style>\n",
       "<table border=\"1\" class=\"dataframe\">\n",
       "  <thead>\n",
       "    <tr style=\"text-align: right;\">\n",
       "      <th></th>\n",
       "      <th>Game_ID</th>\n",
       "      <th>Player_ID</th>\n",
       "      <th>id</th>\n",
       "      <th>X</th>\n",
       "      <th>Y</th>\n",
       "      <th>Team</th>\n",
       "      <th>Half</th>\n",
       "      <th>Season_x</th>\n",
       "      <th>Manager</th>\n",
       "      <th>Opposition_Team</th>\n",
       "      <th>Shots</th>\n",
       "      <th>SoT</th>\n",
       "      <th>Accurate passes</th>\n",
       "      <th>Inaccurate passes</th>\n",
       "      <th>Passes</th>\n",
       "      <th>Start_minutes</th>\n",
       "      <th>End_minutes</th>\n",
       "      <th>Season_y</th>\n",
       "      <th>Match_ID</th>\n",
       "      <th>Home Team</th>\n",
       "      <th>Away Team</th>\n",
       "    </tr>\n",
       "  </thead>\n",
       "  <tbody>\n",
       "    <tr>\n",
       "      <th>0</th>\n",
       "      <td>640</td>\n",
       "      <td>106</td>\n",
       "      <td>1.0</td>\n",
       "      <td>52.5</td>\n",
       "      <td>34.0</td>\n",
       "      <td>14</td>\n",
       "      <td>0</td>\n",
       "      <td>3</td>\n",
       "      <td>40</td>\n",
       "      <td>18</td>\n",
       "      <td>0.0</td>\n",
       "      <td>0.0</td>\n",
       "      <td>1.0</td>\n",
       "      <td>0.0</td>\n",
       "      <td>1.0</td>\n",
       "      <td>0.68</td>\n",
       "      <td>1.02</td>\n",
       "      <td>3</td>\n",
       "      <td>158.0</td>\n",
       "      <td>18</td>\n",
       "      <td>14</td>\n",
       "    </tr>\n",
       "    <tr>\n",
       "      <th>1</th>\n",
       "      <td>640</td>\n",
       "      <td>106</td>\n",
       "      <td>2.0</td>\n",
       "      <td>52.5</td>\n",
       "      <td>34.0</td>\n",
       "      <td>14</td>\n",
       "      <td>0</td>\n",
       "      <td>3</td>\n",
       "      <td>40</td>\n",
       "      <td>18</td>\n",
       "      <td>0.0</td>\n",
       "      <td>0.0</td>\n",
       "      <td>0.0</td>\n",
       "      <td>0.0</td>\n",
       "      <td>0.0</td>\n",
       "      <td>0.68</td>\n",
       "      <td>1.02</td>\n",
       "      <td>3</td>\n",
       "      <td>158.0</td>\n",
       "      <td>18</td>\n",
       "      <td>14</td>\n",
       "    </tr>\n",
       "    <tr>\n",
       "      <th>2</th>\n",
       "      <td>640</td>\n",
       "      <td>417</td>\n",
       "      <td>3.0</td>\n",
       "      <td>37.5</td>\n",
       "      <td>30.9</td>\n",
       "      <td>14</td>\n",
       "      <td>0</td>\n",
       "      <td>3</td>\n",
       "      <td>40</td>\n",
       "      <td>18</td>\n",
       "      <td>0.0</td>\n",
       "      <td>0.0</td>\n",
       "      <td>0.0</td>\n",
       "      <td>0.0</td>\n",
       "      <td>0.0</td>\n",
       "      <td>0.70</td>\n",
       "      <td>1.03</td>\n",
       "      <td>3</td>\n",
       "      <td>158.0</td>\n",
       "      <td>18</td>\n",
       "      <td>14</td>\n",
       "    </tr>\n",
       "    <tr>\n",
       "      <th>3</th>\n",
       "      <td>640</td>\n",
       "      <td>417</td>\n",
       "      <td>4.0</td>\n",
       "      <td>37.5</td>\n",
       "      <td>30.9</td>\n",
       "      <td>14</td>\n",
       "      <td>0</td>\n",
       "      <td>3</td>\n",
       "      <td>40</td>\n",
       "      <td>18</td>\n",
       "      <td>0.0</td>\n",
       "      <td>0.0</td>\n",
       "      <td>1.0</td>\n",
       "      <td>0.0</td>\n",
       "      <td>1.0</td>\n",
       "      <td>0.70</td>\n",
       "      <td>1.03</td>\n",
       "      <td>3</td>\n",
       "      <td>158.0</td>\n",
       "      <td>18</td>\n",
       "      <td>14</td>\n",
       "    </tr>\n",
       "    <tr>\n",
       "      <th>4</th>\n",
       "      <td>640</td>\n",
       "      <td>24</td>\n",
       "      <td>5.0</td>\n",
       "      <td>26.0</td>\n",
       "      <td>10.8</td>\n",
       "      <td>18</td>\n",
       "      <td>0</td>\n",
       "      <td>3</td>\n",
       "      <td>24</td>\n",
       "      <td>14</td>\n",
       "      <td>0.0</td>\n",
       "      <td>0.0</td>\n",
       "      <td>0.0</td>\n",
       "      <td>0.0</td>\n",
       "      <td>0.0</td>\n",
       "      <td>0.77</td>\n",
       "      <td>1.10</td>\n",
       "      <td>3</td>\n",
       "      <td>158.0</td>\n",
       "      <td>18</td>\n",
       "      <td>14</td>\n",
       "    </tr>\n",
       "  </tbody>\n",
       "</table>\n",
       "</div>"
      ],
      "text/plain": [
       "   Game_ID  Player_ID   id     X     Y  Team  Half  Season_x  Manager  \\\n",
       "0      640        106  1.0  52.5  34.0    14     0         3       40   \n",
       "1      640        106  2.0  52.5  34.0    14     0         3       40   \n",
       "2      640        417  3.0  37.5  30.9    14     0         3       40   \n",
       "3      640        417  4.0  37.5  30.9    14     0         3       40   \n",
       "4      640         24  5.0  26.0  10.8    18     0         3       24   \n",
       "\n",
       "   Opposition_Team  Shots  SoT  Accurate passes  Inaccurate passes  Passes  \\\n",
       "0               18    0.0  0.0              1.0                0.0     1.0   \n",
       "1               18    0.0  0.0              0.0                0.0     0.0   \n",
       "2               18    0.0  0.0              0.0                0.0     0.0   \n",
       "3               18    0.0  0.0              1.0                0.0     1.0   \n",
       "4               14    0.0  0.0              0.0                0.0     0.0   \n",
       "\n",
       "   Start_minutes  End_minutes  Season_y  Match_ID  Home Team  Away Team  \n",
       "0           0.68         1.02         3     158.0         18         14  \n",
       "1           0.68         1.02         3     158.0         18         14  \n",
       "2           0.70         1.03         3     158.0         18         14  \n",
       "3           0.70         1.03         3     158.0         18         14  \n",
       "4           0.77         1.10         3     158.0         18         14  "
      ]
     },
     "execution_count": 46,
     "metadata": {},
     "output_type": "execute_result"
    }
   ],
   "source": [
    "# Test = Test[~Test.Shots.isnull()]\n",
    "Test = Test.fillna(0)\n",
    "Test.head()"
   ]
  },
  {
   "cell_type": "code",
   "execution_count": null,
   "id": "997a37eb",
   "metadata": {},
   "outputs": [
    {
     "data": {
      "text/plain": [
       "Game_ID              0\n",
       "Player_ID            0\n",
       "id                   0\n",
       "X                    0\n",
       "Y                    0\n",
       "Team                 0\n",
       "Half                 0\n",
       "Season_x             0\n",
       "Manager              0\n",
       "Opposition_Team      0\n",
       "Shots                0\n",
       "SoT                  0\n",
       "Accurate passes      0\n",
       "Inaccurate passes    0\n",
       "Passes               0\n",
       "Start_minutes        0\n",
       "End_minutes          0\n",
       "Season_y             0\n",
       "Match_ID             0\n",
       "Home Team            0\n",
       "Away Team            0\n",
       "dtype: int64"
      ]
     },
     "execution_count": 58,
     "metadata": {},
     "output_type": "execute_result"
    }
   ],
   "source": [
    "X_test.isnull().sum()"
   ]
  },
  {
   "cell_type": "code",
   "execution_count": null,
   "id": "76acf697",
   "metadata": {},
   "outputs": [
    {
     "data": {
      "text/html": [
       "<div>\n",
       "<style scoped>\n",
       "    .dataframe tbody tr th:only-of-type {\n",
       "        vertical-align: middle;\n",
       "    }\n",
       "\n",
       "    .dataframe tbody tr th {\n",
       "        vertical-align: top;\n",
       "    }\n",
       "\n",
       "    .dataframe thead th {\n",
       "        text-align: right;\n",
       "    }\n",
       "</style>\n",
       "<table border=\"1\" class=\"dataframe\">\n",
       "  <thead>\n",
       "    <tr style=\"text-align: right;\">\n",
       "      <th></th>\n",
       "      <th>Game_ID</th>\n",
       "      <th>Player_ID</th>\n",
       "      <th>id</th>\n",
       "      <th>X</th>\n",
       "      <th>Y</th>\n",
       "      <th>Team</th>\n",
       "      <th>Half</th>\n",
       "      <th>Season_x</th>\n",
       "      <th>Manager</th>\n",
       "      <th>Opposition_Team</th>\n",
       "      <th>Shots</th>\n",
       "      <th>SoT</th>\n",
       "      <th>Accurate passes</th>\n",
       "      <th>Inaccurate passes</th>\n",
       "      <th>Passes</th>\n",
       "      <th>Start_minutes</th>\n",
       "      <th>End_minutes</th>\n",
       "      <th>Season_y</th>\n",
       "      <th>Match_ID</th>\n",
       "      <th>Home Team</th>\n",
       "      <th>Away Team</th>\n",
       "    </tr>\n",
       "  </thead>\n",
       "  <tbody>\n",
       "    <tr>\n",
       "      <th>0</th>\n",
       "      <td>640</td>\n",
       "      <td>106</td>\n",
       "      <td>1.0</td>\n",
       "      <td>52.5</td>\n",
       "      <td>34.0</td>\n",
       "      <td>14</td>\n",
       "      <td>0</td>\n",
       "      <td>3</td>\n",
       "      <td>40</td>\n",
       "      <td>18</td>\n",
       "      <td>0.0</td>\n",
       "      <td>0.0</td>\n",
       "      <td>1.0</td>\n",
       "      <td>0.0</td>\n",
       "      <td>1.0</td>\n",
       "      <td>0.68</td>\n",
       "      <td>1.02</td>\n",
       "      <td>3</td>\n",
       "      <td>158.0</td>\n",
       "      <td>18</td>\n",
       "      <td>14</td>\n",
       "    </tr>\n",
       "    <tr>\n",
       "      <th>1</th>\n",
       "      <td>640</td>\n",
       "      <td>106</td>\n",
       "      <td>2.0</td>\n",
       "      <td>52.5</td>\n",
       "      <td>34.0</td>\n",
       "      <td>14</td>\n",
       "      <td>0</td>\n",
       "      <td>3</td>\n",
       "      <td>40</td>\n",
       "      <td>18</td>\n",
       "      <td>0.0</td>\n",
       "      <td>0.0</td>\n",
       "      <td>0.0</td>\n",
       "      <td>0.0</td>\n",
       "      <td>0.0</td>\n",
       "      <td>0.68</td>\n",
       "      <td>1.02</td>\n",
       "      <td>3</td>\n",
       "      <td>158.0</td>\n",
       "      <td>18</td>\n",
       "      <td>14</td>\n",
       "    </tr>\n",
       "    <tr>\n",
       "      <th>2</th>\n",
       "      <td>640</td>\n",
       "      <td>417</td>\n",
       "      <td>3.0</td>\n",
       "      <td>37.5</td>\n",
       "      <td>30.9</td>\n",
       "      <td>14</td>\n",
       "      <td>0</td>\n",
       "      <td>3</td>\n",
       "      <td>40</td>\n",
       "      <td>18</td>\n",
       "      <td>0.0</td>\n",
       "      <td>0.0</td>\n",
       "      <td>0.0</td>\n",
       "      <td>0.0</td>\n",
       "      <td>0.0</td>\n",
       "      <td>0.70</td>\n",
       "      <td>1.03</td>\n",
       "      <td>3</td>\n",
       "      <td>158.0</td>\n",
       "      <td>18</td>\n",
       "      <td>14</td>\n",
       "    </tr>\n",
       "    <tr>\n",
       "      <th>3</th>\n",
       "      <td>640</td>\n",
       "      <td>417</td>\n",
       "      <td>4.0</td>\n",
       "      <td>37.5</td>\n",
       "      <td>30.9</td>\n",
       "      <td>14</td>\n",
       "      <td>0</td>\n",
       "      <td>3</td>\n",
       "      <td>40</td>\n",
       "      <td>18</td>\n",
       "      <td>0.0</td>\n",
       "      <td>0.0</td>\n",
       "      <td>1.0</td>\n",
       "      <td>0.0</td>\n",
       "      <td>1.0</td>\n",
       "      <td>0.70</td>\n",
       "      <td>1.03</td>\n",
       "      <td>3</td>\n",
       "      <td>158.0</td>\n",
       "      <td>18</td>\n",
       "      <td>14</td>\n",
       "    </tr>\n",
       "    <tr>\n",
       "      <th>4</th>\n",
       "      <td>640</td>\n",
       "      <td>24</td>\n",
       "      <td>5.0</td>\n",
       "      <td>26.0</td>\n",
       "      <td>10.8</td>\n",
       "      <td>18</td>\n",
       "      <td>0</td>\n",
       "      <td>3</td>\n",
       "      <td>24</td>\n",
       "      <td>14</td>\n",
       "      <td>0.0</td>\n",
       "      <td>0.0</td>\n",
       "      <td>0.0</td>\n",
       "      <td>0.0</td>\n",
       "      <td>0.0</td>\n",
       "      <td>0.77</td>\n",
       "      <td>1.10</td>\n",
       "      <td>3</td>\n",
       "      <td>158.0</td>\n",
       "      <td>18</td>\n",
       "      <td>14</td>\n",
       "    </tr>\n",
       "    <tr>\n",
       "      <th>...</th>\n",
       "      <td>...</td>\n",
       "      <td>...</td>\n",
       "      <td>...</td>\n",
       "      <td>...</td>\n",
       "      <td>...</td>\n",
       "      <td>...</td>\n",
       "      <td>...</td>\n",
       "      <td>...</td>\n",
       "      <td>...</td>\n",
       "      <td>...</td>\n",
       "      <td>...</td>\n",
       "      <td>...</td>\n",
       "      <td>...</td>\n",
       "      <td>...</td>\n",
       "      <td>...</td>\n",
       "      <td>...</td>\n",
       "      <td>...</td>\n",
       "      <td>...</td>\n",
       "      <td>...</td>\n",
       "      <td>...</td>\n",
       "      <td>...</td>\n",
       "    </tr>\n",
       "    <tr>\n",
       "      <th>780229</th>\n",
       "      <td>2</td>\n",
       "      <td>757</td>\n",
       "      <td>3661.0</td>\n",
       "      <td>42.1</td>\n",
       "      <td>57.4</td>\n",
       "      <td>1</td>\n",
       "      <td>1</td>\n",
       "      <td>3</td>\n",
       "      <td>23</td>\n",
       "      <td>8</td>\n",
       "      <td>0.0</td>\n",
       "      <td>0.0</td>\n",
       "      <td>0.0</td>\n",
       "      <td>0.0</td>\n",
       "      <td>0.0</td>\n",
       "      <td>96.33</td>\n",
       "      <td>96.67</td>\n",
       "      <td>3</td>\n",
       "      <td>87.0</td>\n",
       "      <td>8</td>\n",
       "      <td>1</td>\n",
       "    </tr>\n",
       "    <tr>\n",
       "      <th>780230</th>\n",
       "      <td>2</td>\n",
       "      <td>757</td>\n",
       "      <td>3662.0</td>\n",
       "      <td>42.1</td>\n",
       "      <td>57.4</td>\n",
       "      <td>1</td>\n",
       "      <td>1</td>\n",
       "      <td>3</td>\n",
       "      <td>23</td>\n",
       "      <td>8</td>\n",
       "      <td>0.0</td>\n",
       "      <td>0.0</td>\n",
       "      <td>0.0</td>\n",
       "      <td>0.0</td>\n",
       "      <td>0.0</td>\n",
       "      <td>96.33</td>\n",
       "      <td>96.67</td>\n",
       "      <td>3</td>\n",
       "      <td>87.0</td>\n",
       "      <td>8</td>\n",
       "      <td>1</td>\n",
       "    </tr>\n",
       "    <tr>\n",
       "      <th>780231</th>\n",
       "      <td>2</td>\n",
       "      <td>127</td>\n",
       "      <td>3663.0</td>\n",
       "      <td>7.5</td>\n",
       "      <td>19.6</td>\n",
       "      <td>8</td>\n",
       "      <td>1</td>\n",
       "      <td>3</td>\n",
       "      <td>26</td>\n",
       "      <td>1</td>\n",
       "      <td>0.0</td>\n",
       "      <td>0.0</td>\n",
       "      <td>0.0</td>\n",
       "      <td>0.0</td>\n",
       "      <td>0.0</td>\n",
       "      <td>96.42</td>\n",
       "      <td>96.75</td>\n",
       "      <td>3</td>\n",
       "      <td>87.0</td>\n",
       "      <td>8</td>\n",
       "      <td>1</td>\n",
       "    </tr>\n",
       "    <tr>\n",
       "      <th>780232</th>\n",
       "      <td>2</td>\n",
       "      <td>127</td>\n",
       "      <td>3664.0</td>\n",
       "      <td>7.5</td>\n",
       "      <td>19.6</td>\n",
       "      <td>8</td>\n",
       "      <td>1</td>\n",
       "      <td>3</td>\n",
       "      <td>26</td>\n",
       "      <td>1</td>\n",
       "      <td>0.0</td>\n",
       "      <td>0.0</td>\n",
       "      <td>0.0</td>\n",
       "      <td>0.0</td>\n",
       "      <td>0.0</td>\n",
       "      <td>96.42</td>\n",
       "      <td>96.75</td>\n",
       "      <td>3</td>\n",
       "      <td>87.0</td>\n",
       "      <td>8</td>\n",
       "      <td>1</td>\n",
       "    </tr>\n",
       "    <tr>\n",
       "      <th>780233</th>\n",
       "      <td>2</td>\n",
       "      <td>147</td>\n",
       "      <td>3665.0</td>\n",
       "      <td>23.0</td>\n",
       "      <td>0.0</td>\n",
       "      <td>8</td>\n",
       "      <td>1</td>\n",
       "      <td>3</td>\n",
       "      <td>26</td>\n",
       "      <td>1</td>\n",
       "      <td>0.0</td>\n",
       "      <td>0.0</td>\n",
       "      <td>1.0</td>\n",
       "      <td>0.0</td>\n",
       "      <td>1.0</td>\n",
       "      <td>96.62</td>\n",
       "      <td>96.95</td>\n",
       "      <td>3</td>\n",
       "      <td>87.0</td>\n",
       "      <td>8</td>\n",
       "      <td>1</td>\n",
       "    </tr>\n",
       "  </tbody>\n",
       "</table>\n",
       "<p>780234 rows × 21 columns</p>\n",
       "</div>"
      ],
      "text/plain": [
       "        Game_ID  Player_ID      id     X     Y  Team  Half  Season_x  Manager  \\\n",
       "0           640        106     1.0  52.5  34.0    14     0         3       40   \n",
       "1           640        106     2.0  52.5  34.0    14     0         3       40   \n",
       "2           640        417     3.0  37.5  30.9    14     0         3       40   \n",
       "3           640        417     4.0  37.5  30.9    14     0         3       40   \n",
       "4           640         24     5.0  26.0  10.8    18     0         3       24   \n",
       "...         ...        ...     ...   ...   ...   ...   ...       ...      ...   \n",
       "780229        2        757  3661.0  42.1  57.4     1     1         3       23   \n",
       "780230        2        757  3662.0  42.1  57.4     1     1         3       23   \n",
       "780231        2        127  3663.0   7.5  19.6     8     1         3       26   \n",
       "780232        2        127  3664.0   7.5  19.6     8     1         3       26   \n",
       "780233        2        147  3665.0  23.0   0.0     8     1         3       26   \n",
       "\n",
       "        Opposition_Team  Shots  SoT  Accurate passes  Inaccurate passes  \\\n",
       "0                    18    0.0  0.0              1.0                0.0   \n",
       "1                    18    0.0  0.0              0.0                0.0   \n",
       "2                    18    0.0  0.0              0.0                0.0   \n",
       "3                    18    0.0  0.0              1.0                0.0   \n",
       "4                    14    0.0  0.0              0.0                0.0   \n",
       "...                 ...    ...  ...              ...                ...   \n",
       "780229                8    0.0  0.0              0.0                0.0   \n",
       "780230                8    0.0  0.0              0.0                0.0   \n",
       "780231                1    0.0  0.0              0.0                0.0   \n",
       "780232                1    0.0  0.0              0.0                0.0   \n",
       "780233                1    0.0  0.0              1.0                0.0   \n",
       "\n",
       "        Passes  Start_minutes  End_minutes  Season_y  Match_ID  Home Team  \\\n",
       "0          1.0           0.68         1.02         3     158.0         18   \n",
       "1          0.0           0.68         1.02         3     158.0         18   \n",
       "2          0.0           0.70         1.03         3     158.0         18   \n",
       "3          1.0           0.70         1.03         3     158.0         18   \n",
       "4          0.0           0.77         1.10         3     158.0         18   \n",
       "...        ...            ...          ...       ...       ...        ...   \n",
       "780229     0.0          96.33        96.67         3      87.0          8   \n",
       "780230     0.0          96.33        96.67         3      87.0          8   \n",
       "780231     0.0          96.42        96.75         3      87.0          8   \n",
       "780232     0.0          96.42        96.75         3      87.0          8   \n",
       "780233     1.0          96.62        96.95         3      87.0          8   \n",
       "\n",
       "        Away Team  \n",
       "0              14  \n",
       "1              14  \n",
       "2              14  \n",
       "3              14  \n",
       "4              14  \n",
       "...           ...  \n",
       "780229          1  \n",
       "780230          1  \n",
       "780231          1  \n",
       "780232          1  \n",
       "780233          1  \n",
       "\n",
       "[780234 rows x 21 columns]"
      ]
     },
     "execution_count": 59,
     "metadata": {},
     "output_type": "execute_result"
    }
   ],
   "source": [
    "X_test.dropna(how=\"all\")"
   ]
  },
  {
   "cell_type": "markdown",
   "id": "0b465081",
   "metadata": {},
   "source": [
    "### Predict on the test set"
   ]
  },
  {
   "cell_type": "code",
   "execution_count": null,
   "id": "4d639b39",
   "metadata": {},
   "outputs": [
    {
     "ename": "ValueError",
     "evalue": "The feature names should match those that were passed during fit.\nFeature names unseen at fit time:\n- Game_ID\n",
     "output_type": "error",
     "traceback": [
      "\u001b[0;31m---------------------------------------------------------------------------\u001b[0m",
      "\u001b[0;31mValueError\u001b[0m                                Traceback (most recent call last)",
      "Cell \u001b[0;32mIn[63], line 1\u001b[0m\n\u001b[0;32m----> 1\u001b[0m pred_clf\u001b[39m=\u001b[39mclf\u001b[39m.\u001b[39;49mpredict_proba(X_test)[:,\u001b[39m1\u001b[39m]\n\u001b[1;32m      2\u001b[0m pred_clf\n",
      "File \u001b[0;32m~/anaconda3/lib/python3.10/site-packages/sklearn/ensemble/_forest.py:862\u001b[0m, in \u001b[0;36mForestClassifier.predict_proba\u001b[0;34m(self, X)\u001b[0m\n\u001b[1;32m    860\u001b[0m check_is_fitted(\u001b[39mself\u001b[39m)\n\u001b[1;32m    861\u001b[0m \u001b[39m# Check data\u001b[39;00m\n\u001b[0;32m--> 862\u001b[0m X \u001b[39m=\u001b[39m \u001b[39mself\u001b[39;49m\u001b[39m.\u001b[39;49m_validate_X_predict(X)\n\u001b[1;32m    864\u001b[0m \u001b[39m# Assign chunk of trees to jobs\u001b[39;00m\n\u001b[1;32m    865\u001b[0m n_jobs, _, _ \u001b[39m=\u001b[39m _partition_estimators(\u001b[39mself\u001b[39m\u001b[39m.\u001b[39mn_estimators, \u001b[39mself\u001b[39m\u001b[39m.\u001b[39mn_jobs)\n",
      "File \u001b[0;32m~/anaconda3/lib/python3.10/site-packages/sklearn/ensemble/_forest.py:602\u001b[0m, in \u001b[0;36mBaseForest._validate_X_predict\u001b[0;34m(self, X)\u001b[0m\n\u001b[1;32m    599\u001b[0m \u001b[39m\"\"\"\u001b[39;00m\n\u001b[1;32m    600\u001b[0m \u001b[39mValidate X whenever one tries to predict, apply, predict_proba.\"\"\"\u001b[39;00m\n\u001b[1;32m    601\u001b[0m check_is_fitted(\u001b[39mself\u001b[39m)\n\u001b[0;32m--> 602\u001b[0m X \u001b[39m=\u001b[39m \u001b[39mself\u001b[39;49m\u001b[39m.\u001b[39;49m_validate_data(X, dtype\u001b[39m=\u001b[39;49mDTYPE, accept_sparse\u001b[39m=\u001b[39;49m\u001b[39m\"\u001b[39;49m\u001b[39mcsr\u001b[39;49m\u001b[39m\"\u001b[39;49m, reset\u001b[39m=\u001b[39;49m\u001b[39mFalse\u001b[39;49;00m)\n\u001b[1;32m    603\u001b[0m \u001b[39mif\u001b[39;00m issparse(X) \u001b[39mand\u001b[39;00m (X\u001b[39m.\u001b[39mindices\u001b[39m.\u001b[39mdtype \u001b[39m!=\u001b[39m np\u001b[39m.\u001b[39mintc \u001b[39mor\u001b[39;00m X\u001b[39m.\u001b[39mindptr\u001b[39m.\u001b[39mdtype \u001b[39m!=\u001b[39m np\u001b[39m.\u001b[39mintc):\n\u001b[1;32m    604\u001b[0m     \u001b[39mraise\u001b[39;00m \u001b[39mValueError\u001b[39;00m(\u001b[39m\"\u001b[39m\u001b[39mNo support for np.int64 index based sparse matrices\u001b[39m\u001b[39m\"\u001b[39m)\n",
      "File \u001b[0;32m~/anaconda3/lib/python3.10/site-packages/sklearn/base.py:529\u001b[0m, in \u001b[0;36mBaseEstimator._validate_data\u001b[0;34m(self, X, y, reset, validate_separately, **check_params)\u001b[0m\n\u001b[1;32m    464\u001b[0m \u001b[39mdef\u001b[39;00m \u001b[39m_validate_data\u001b[39m(\n\u001b[1;32m    465\u001b[0m     \u001b[39mself\u001b[39m,\n\u001b[1;32m    466\u001b[0m     X\u001b[39m=\u001b[39m\u001b[39m\"\u001b[39m\u001b[39mno_validation\u001b[39m\u001b[39m\"\u001b[39m,\n\u001b[0;32m   (...)\u001b[0m\n\u001b[1;32m    470\u001b[0m     \u001b[39m*\u001b[39m\u001b[39m*\u001b[39mcheck_params,\n\u001b[1;32m    471\u001b[0m ):\n\u001b[1;32m    472\u001b[0m     \u001b[39m\"\"\"Validate input data and set or check the `n_features_in_` attribute.\u001b[39;00m\n\u001b[1;32m    473\u001b[0m \n\u001b[1;32m    474\u001b[0m \u001b[39m    Parameters\u001b[39;00m\n\u001b[0;32m   (...)\u001b[0m\n\u001b[1;32m    527\u001b[0m \u001b[39m        validated.\u001b[39;00m\n\u001b[1;32m    528\u001b[0m \u001b[39m    \"\"\"\u001b[39;00m\n\u001b[0;32m--> 529\u001b[0m     \u001b[39mself\u001b[39;49m\u001b[39m.\u001b[39;49m_check_feature_names(X, reset\u001b[39m=\u001b[39;49mreset)\n\u001b[1;32m    531\u001b[0m     \u001b[39mif\u001b[39;00m y \u001b[39mis\u001b[39;00m \u001b[39mNone\u001b[39;00m \u001b[39mand\u001b[39;00m \u001b[39mself\u001b[39m\u001b[39m.\u001b[39m_get_tags()[\u001b[39m\"\u001b[39m\u001b[39mrequires_y\u001b[39m\u001b[39m\"\u001b[39m]:\n\u001b[1;32m    532\u001b[0m         \u001b[39mraise\u001b[39;00m \u001b[39mValueError\u001b[39;00m(\n\u001b[1;32m    533\u001b[0m             \u001b[39mf\u001b[39m\u001b[39m\"\u001b[39m\u001b[39mThis \u001b[39m\u001b[39m{\u001b[39;00m\u001b[39mself\u001b[39m\u001b[39m.\u001b[39m\u001b[39m__class__\u001b[39m\u001b[39m.\u001b[39m\u001b[39m__name__\u001b[39m\u001b[39m}\u001b[39;00m\u001b[39m estimator \u001b[39m\u001b[39m\"\u001b[39m\n\u001b[1;32m    534\u001b[0m             \u001b[39m\"\u001b[39m\u001b[39mrequires y to be passed, but the target y is None.\u001b[39m\u001b[39m\"\u001b[39m\n\u001b[1;32m    535\u001b[0m         )\n",
      "File \u001b[0;32m~/anaconda3/lib/python3.10/site-packages/sklearn/base.py:462\u001b[0m, in \u001b[0;36mBaseEstimator._check_feature_names\u001b[0;34m(self, X, reset)\u001b[0m\n\u001b[1;32m    457\u001b[0m \u001b[39mif\u001b[39;00m \u001b[39mnot\u001b[39;00m missing_names \u001b[39mand\u001b[39;00m \u001b[39mnot\u001b[39;00m unexpected_names:\n\u001b[1;32m    458\u001b[0m     message \u001b[39m+\u001b[39m\u001b[39m=\u001b[39m (\n\u001b[1;32m    459\u001b[0m         \u001b[39m\"\u001b[39m\u001b[39mFeature names must be in the same order as they were in fit.\u001b[39m\u001b[39m\\n\u001b[39;00m\u001b[39m\"\u001b[39m\n\u001b[1;32m    460\u001b[0m     )\n\u001b[0;32m--> 462\u001b[0m \u001b[39mraise\u001b[39;00m \u001b[39mValueError\u001b[39;00m(message)\n",
      "\u001b[0;31mValueError\u001b[0m: The feature names should match those that were passed during fit.\nFeature names unseen at fit time:\n- Game_ID\n"
     ]
    }
   ],
   "source": [
    "pred_clf=clf.predict_proba(X_test)[:,1]\n",
    "pred_clf"
   ]
  },
  {
   "cell_type": "code",
   "execution_count": null,
   "id": "071a3645",
   "metadata": {},
   "outputs": [
    {
     "ename": "ValueError",
     "evalue": "Classification metrics can't handle a mix of multiclass and continuous targets",
     "output_type": "error",
     "traceback": [
      "\u001b[0;31m---------------------------------------------------------------------------\u001b[0m",
      "\u001b[0;31mValueError\u001b[0m                                Traceback (most recent call last)",
      "Cell \u001b[0;32mIn[50], line 2\u001b[0m\n\u001b[1;32m      1\u001b[0m \u001b[39mfrom\u001b[39;00m \u001b[39msklearn\u001b[39;00m\u001b[39m.\u001b[39;00m\u001b[39mmetrics\u001b[39;00m \u001b[39mimport\u001b[39;00m classification_report\n\u001b[0;32m----> 2\u001b[0m \u001b[39mprint\u001b[39m(classification_report(y, pred_clf))\n",
      "File \u001b[0;32m~/anaconda3/lib/python3.10/site-packages/sklearn/metrics/_classification.py:2310\u001b[0m, in \u001b[0;36mclassification_report\u001b[0;34m(y_true, y_pred, labels, target_names, sample_weight, digits, output_dict, zero_division)\u001b[0m\n\u001b[1;32m   2195\u001b[0m \u001b[39mdef\u001b[39;00m \u001b[39mclassification_report\u001b[39m(\n\u001b[1;32m   2196\u001b[0m     y_true,\n\u001b[1;32m   2197\u001b[0m     y_pred,\n\u001b[0;32m   (...)\u001b[0m\n\u001b[1;32m   2204\u001b[0m     zero_division\u001b[39m=\u001b[39m\u001b[39m\"\u001b[39m\u001b[39mwarn\u001b[39m\u001b[39m\"\u001b[39m,\n\u001b[1;32m   2205\u001b[0m ):\n\u001b[1;32m   2206\u001b[0m     \u001b[39m\"\"\"Build a text report showing the main classification metrics.\u001b[39;00m\n\u001b[1;32m   2207\u001b[0m \n\u001b[1;32m   2208\u001b[0m \u001b[39m    Read more in the :ref:`User Guide <classification_report>`.\u001b[39;00m\n\u001b[0;32m   (...)\u001b[0m\n\u001b[1;32m   2307\u001b[0m \u001b[39m    <BLANKLINE>\u001b[39;00m\n\u001b[1;32m   2308\u001b[0m \u001b[39m    \"\"\"\u001b[39;00m\n\u001b[0;32m-> 2310\u001b[0m     y_type, y_true, y_pred \u001b[39m=\u001b[39m _check_targets(y_true, y_pred)\n\u001b[1;32m   2312\u001b[0m     \u001b[39mif\u001b[39;00m labels \u001b[39mis\u001b[39;00m \u001b[39mNone\u001b[39;00m:\n\u001b[1;32m   2313\u001b[0m         labels \u001b[39m=\u001b[39m unique_labels(y_true, y_pred)\n",
      "File \u001b[0;32m~/anaconda3/lib/python3.10/site-packages/sklearn/metrics/_classification.py:95\u001b[0m, in \u001b[0;36m_check_targets\u001b[0;34m(y_true, y_pred)\u001b[0m\n\u001b[1;32m     92\u001b[0m     y_type \u001b[39m=\u001b[39m {\u001b[39m\"\u001b[39m\u001b[39mmulticlass\u001b[39m\u001b[39m\"\u001b[39m}\n\u001b[1;32m     94\u001b[0m \u001b[39mif\u001b[39;00m \u001b[39mlen\u001b[39m(y_type) \u001b[39m>\u001b[39m \u001b[39m1\u001b[39m:\n\u001b[0;32m---> 95\u001b[0m     \u001b[39mraise\u001b[39;00m \u001b[39mValueError\u001b[39;00m(\n\u001b[1;32m     96\u001b[0m         \u001b[39m\"\u001b[39m\u001b[39mClassification metrics can\u001b[39m\u001b[39m'\u001b[39m\u001b[39mt handle a mix of \u001b[39m\u001b[39m{0}\u001b[39;00m\u001b[39m and \u001b[39m\u001b[39m{1}\u001b[39;00m\u001b[39m targets\u001b[39m\u001b[39m\"\u001b[39m\u001b[39m.\u001b[39mformat(\n\u001b[1;32m     97\u001b[0m             type_true, type_pred\n\u001b[1;32m     98\u001b[0m         )\n\u001b[1;32m     99\u001b[0m     )\n\u001b[1;32m    101\u001b[0m \u001b[39m# We can't have more than one value on y_type => The set is no more needed\u001b[39;00m\n\u001b[1;32m    102\u001b[0m y_type \u001b[39m=\u001b[39m y_type\u001b[39m.\u001b[39mpop()\n",
      "\u001b[0;31mValueError\u001b[0m: Classification metrics can't handle a mix of multiclass and continuous targets"
     ]
    }
   ],
   "source": [
    "from sklearn.metrics import classification_report\n",
    "print(classification_report(y, pred_clf))"
   ]
  },
  {
   "cell_type": "code",
   "execution_count": null,
   "metadata": {},
   "outputs": [
    {
     "data": {
      "text/plain": [
       "0.0"
      ]
     },
     "execution_count": 55,
     "metadata": {},
     "output_type": "execute_result"
    }
   ],
   "source": [
    "pred_dt = dt.predict_proba(X)\n",
    "pred_dt.min()"
   ]
  },
  {
   "cell_type": "code",
   "execution_count": null,
   "id": "e4b0c3b9",
   "metadata": {},
   "outputs": [
    {
     "ename": "ValueError",
     "evalue": "Classification metrics can't handle a mix of multiclass and multilabel-indicator targets",
     "output_type": "error",
     "traceback": [
      "\u001b[0;31m---------------------------------------------------------------------------\u001b[0m",
      "\u001b[0;31mValueError\u001b[0m                                Traceback (most recent call last)",
      "Cell \u001b[0;32mIn[60], line 2\u001b[0m\n\u001b[1;32m      1\u001b[0m \u001b[39mfrom\u001b[39;00m \u001b[39msklearn\u001b[39;00m\u001b[39m.\u001b[39;00m\u001b[39mmetrics\u001b[39;00m \u001b[39mimport\u001b[39;00m classification_report\n\u001b[0;32m----> 2\u001b[0m \u001b[39mprint\u001b[39m(classification_report(y, pred_dt))\n",
      "File \u001b[0;32m~/anaconda3/lib/python3.10/site-packages/sklearn/metrics/_classification.py:2310\u001b[0m, in \u001b[0;36mclassification_report\u001b[0;34m(y_true, y_pred, labels, target_names, sample_weight, digits, output_dict, zero_division)\u001b[0m\n\u001b[1;32m   2195\u001b[0m \u001b[39mdef\u001b[39;00m \u001b[39mclassification_report\u001b[39m(\n\u001b[1;32m   2196\u001b[0m     y_true,\n\u001b[1;32m   2197\u001b[0m     y_pred,\n\u001b[0;32m   (...)\u001b[0m\n\u001b[1;32m   2204\u001b[0m     zero_division\u001b[39m=\u001b[39m\u001b[39m\"\u001b[39m\u001b[39mwarn\u001b[39m\u001b[39m\"\u001b[39m,\n\u001b[1;32m   2205\u001b[0m ):\n\u001b[1;32m   2206\u001b[0m     \u001b[39m\"\"\"Build a text report showing the main classification metrics.\u001b[39;00m\n\u001b[1;32m   2207\u001b[0m \n\u001b[1;32m   2208\u001b[0m \u001b[39m    Read more in the :ref:`User Guide <classification_report>`.\u001b[39;00m\n\u001b[0;32m   (...)\u001b[0m\n\u001b[1;32m   2307\u001b[0m \u001b[39m    <BLANKLINE>\u001b[39;00m\n\u001b[1;32m   2308\u001b[0m \u001b[39m    \"\"\"\u001b[39;00m\n\u001b[0;32m-> 2310\u001b[0m     y_type, y_true, y_pred \u001b[39m=\u001b[39m _check_targets(y_true, y_pred)\n\u001b[1;32m   2312\u001b[0m     \u001b[39mif\u001b[39;00m labels \u001b[39mis\u001b[39;00m \u001b[39mNone\u001b[39;00m:\n\u001b[1;32m   2313\u001b[0m         labels \u001b[39m=\u001b[39m unique_labels(y_true, y_pred)\n",
      "File \u001b[0;32m~/anaconda3/lib/python3.10/site-packages/sklearn/metrics/_classification.py:95\u001b[0m, in \u001b[0;36m_check_targets\u001b[0;34m(y_true, y_pred)\u001b[0m\n\u001b[1;32m     92\u001b[0m     y_type \u001b[39m=\u001b[39m {\u001b[39m\"\u001b[39m\u001b[39mmulticlass\u001b[39m\u001b[39m\"\u001b[39m}\n\u001b[1;32m     94\u001b[0m \u001b[39mif\u001b[39;00m \u001b[39mlen\u001b[39m(y_type) \u001b[39m>\u001b[39m \u001b[39m1\u001b[39m:\n\u001b[0;32m---> 95\u001b[0m     \u001b[39mraise\u001b[39;00m \u001b[39mValueError\u001b[39;00m(\n\u001b[1;32m     96\u001b[0m         \u001b[39m\"\u001b[39m\u001b[39mClassification metrics can\u001b[39m\u001b[39m'\u001b[39m\u001b[39mt handle a mix of \u001b[39m\u001b[39m{0}\u001b[39;00m\u001b[39m and \u001b[39m\u001b[39m{1}\u001b[39;00m\u001b[39m targets\u001b[39m\u001b[39m\"\u001b[39m\u001b[39m.\u001b[39mformat(\n\u001b[1;32m     97\u001b[0m             type_true, type_pred\n\u001b[1;32m     98\u001b[0m         )\n\u001b[1;32m     99\u001b[0m     )\n\u001b[1;32m    101\u001b[0m \u001b[39m# We can't have more than one value on y_type => The set is no more needed\u001b[39;00m\n\u001b[1;32m    102\u001b[0m y_type \u001b[39m=\u001b[39m y_type\u001b[39m.\u001b[39mpop()\n",
      "\u001b[0;31mValueError\u001b[0m: Classification metrics can't handle a mix of multiclass and multilabel-indicator targets"
     ]
    }
   ],
   "source": [
    "from sklearn.metrics import classification_report\n",
    "print(classification_report(y, pred_dt))"
   ]
  },
  {
   "cell_type": "code",
   "execution_count": null,
   "id": "afa317fd",
   "metadata": {},
   "outputs": [],
   "source": [
    "pred_knn_classifier  = knn_classifier.predict_proba(X)\n",
    "\n",
    "pred_knn_classifier"
   ]
  },
  {
   "cell_type": "code",
   "execution_count": null,
   "id": "7a035863",
   "metadata": {},
   "outputs": [
    {
     "ename": "ValueError",
     "evalue": "Length of values (1571577) does not match length of index (780234)",
     "output_type": "error",
     "traceback": [
      "\u001b[0;31m---------------------------------------------------------------------------\u001b[0m",
      "\u001b[0;31mValueError\u001b[0m                                Traceback (most recent call last)",
      "Cell \u001b[0;32mIn[62], line 1\u001b[0m\n\u001b[0;32m----> 1\u001b[0m X_test[\u001b[39m\"\u001b[39m\u001b[39mScore\u001b[39m\u001b[39m\"\u001b[39m] \u001b[39m=\u001b[39m pred_clf\n",
      "File \u001b[0;32m~/anaconda3/lib/python3.10/site-packages/pandas/core/frame.py:3980\u001b[0m, in \u001b[0;36mDataFrame.__setitem__\u001b[0;34m(self, key, value)\u001b[0m\n\u001b[1;32m   3977\u001b[0m     \u001b[39mself\u001b[39m\u001b[39m.\u001b[39m_setitem_array([key], value)\n\u001b[1;32m   3978\u001b[0m \u001b[39melse\u001b[39;00m:\n\u001b[1;32m   3979\u001b[0m     \u001b[39m# set column\u001b[39;00m\n\u001b[0;32m-> 3980\u001b[0m     \u001b[39mself\u001b[39;49m\u001b[39m.\u001b[39;49m_set_item(key, value)\n",
      "File \u001b[0;32m~/anaconda3/lib/python3.10/site-packages/pandas/core/frame.py:4174\u001b[0m, in \u001b[0;36mDataFrame._set_item\u001b[0;34m(self, key, value)\u001b[0m\n\u001b[1;32m   4164\u001b[0m \u001b[39mdef\u001b[39;00m \u001b[39m_set_item\u001b[39m(\u001b[39mself\u001b[39m, key, value) \u001b[39m-\u001b[39m\u001b[39m>\u001b[39m \u001b[39mNone\u001b[39;00m:\n\u001b[1;32m   4165\u001b[0m     \u001b[39m\"\"\"\u001b[39;00m\n\u001b[1;32m   4166\u001b[0m \u001b[39m    Add series to DataFrame in specified column.\u001b[39;00m\n\u001b[1;32m   4167\u001b[0m \n\u001b[0;32m   (...)\u001b[0m\n\u001b[1;32m   4172\u001b[0m \u001b[39m    ensure homogeneity.\u001b[39;00m\n\u001b[1;32m   4173\u001b[0m \u001b[39m    \"\"\"\u001b[39;00m\n\u001b[0;32m-> 4174\u001b[0m     value \u001b[39m=\u001b[39m \u001b[39mself\u001b[39;49m\u001b[39m.\u001b[39;49m_sanitize_column(value)\n\u001b[1;32m   4176\u001b[0m     \u001b[39mif\u001b[39;00m (\n\u001b[1;32m   4177\u001b[0m         key \u001b[39min\u001b[39;00m \u001b[39mself\u001b[39m\u001b[39m.\u001b[39mcolumns\n\u001b[1;32m   4178\u001b[0m         \u001b[39mand\u001b[39;00m value\u001b[39m.\u001b[39mndim \u001b[39m==\u001b[39m \u001b[39m1\u001b[39m\n\u001b[1;32m   4179\u001b[0m         \u001b[39mand\u001b[39;00m \u001b[39mnot\u001b[39;00m is_extension_array_dtype(value)\n\u001b[1;32m   4180\u001b[0m     ):\n\u001b[1;32m   4181\u001b[0m         \u001b[39m# broadcast across multiple columns if necessary\u001b[39;00m\n\u001b[1;32m   4182\u001b[0m         \u001b[39mif\u001b[39;00m \u001b[39mnot\u001b[39;00m \u001b[39mself\u001b[39m\u001b[39m.\u001b[39mcolumns\u001b[39m.\u001b[39mis_unique \u001b[39mor\u001b[39;00m \u001b[39misinstance\u001b[39m(\u001b[39mself\u001b[39m\u001b[39m.\u001b[39mcolumns, MultiIndex):\n",
      "File \u001b[0;32m~/anaconda3/lib/python3.10/site-packages/pandas/core/frame.py:4915\u001b[0m, in \u001b[0;36mDataFrame._sanitize_column\u001b[0;34m(self, value)\u001b[0m\n\u001b[1;32m   4912\u001b[0m     \u001b[39mreturn\u001b[39;00m _reindex_for_setitem(Series(value), \u001b[39mself\u001b[39m\u001b[39m.\u001b[39mindex)\n\u001b[1;32m   4914\u001b[0m \u001b[39mif\u001b[39;00m is_list_like(value):\n\u001b[0;32m-> 4915\u001b[0m     com\u001b[39m.\u001b[39;49mrequire_length_match(value, \u001b[39mself\u001b[39;49m\u001b[39m.\u001b[39;49mindex)\n\u001b[1;32m   4916\u001b[0m \u001b[39mreturn\u001b[39;00m sanitize_array(value, \u001b[39mself\u001b[39m\u001b[39m.\u001b[39mindex, copy\u001b[39m=\u001b[39m\u001b[39mTrue\u001b[39;00m, allow_2d\u001b[39m=\u001b[39m\u001b[39mTrue\u001b[39;00m)\n",
      "File \u001b[0;32m~/anaconda3/lib/python3.10/site-packages/pandas/core/common.py:571\u001b[0m, in \u001b[0;36mrequire_length_match\u001b[0;34m(data, index)\u001b[0m\n\u001b[1;32m    567\u001b[0m \u001b[39m\"\"\"\u001b[39;00m\n\u001b[1;32m    568\u001b[0m \u001b[39mCheck the length of data matches the length of the index.\u001b[39;00m\n\u001b[1;32m    569\u001b[0m \u001b[39m\"\"\"\u001b[39;00m\n\u001b[1;32m    570\u001b[0m \u001b[39mif\u001b[39;00m \u001b[39mlen\u001b[39m(data) \u001b[39m!=\u001b[39m \u001b[39mlen\u001b[39m(index):\n\u001b[0;32m--> 571\u001b[0m     \u001b[39mraise\u001b[39;00m \u001b[39mValueError\u001b[39;00m(\n\u001b[1;32m    572\u001b[0m         \u001b[39m\"\u001b[39m\u001b[39mLength of values \u001b[39m\u001b[39m\"\u001b[39m\n\u001b[1;32m    573\u001b[0m         \u001b[39mf\u001b[39m\u001b[39m\"\u001b[39m\u001b[39m(\u001b[39m\u001b[39m{\u001b[39;00m\u001b[39mlen\u001b[39m(data)\u001b[39m}\u001b[39;00m\u001b[39m) \u001b[39m\u001b[39m\"\u001b[39m\n\u001b[1;32m    574\u001b[0m         \u001b[39m\"\u001b[39m\u001b[39mdoes not match length of index \u001b[39m\u001b[39m\"\u001b[39m\n\u001b[1;32m    575\u001b[0m         \u001b[39mf\u001b[39m\u001b[39m\"\u001b[39m\u001b[39m(\u001b[39m\u001b[39m{\u001b[39;00m\u001b[39mlen\u001b[39m(index)\u001b[39m}\u001b[39;00m\u001b[39m)\u001b[39m\u001b[39m\"\u001b[39m\n\u001b[1;32m    576\u001b[0m     )\n",
      "\u001b[0;31mValueError\u001b[0m: Length of values (1571577) does not match length of index (780234)"
     ]
    }
   ],
   "source": [
    "X_test[\"Score\"] = pred_clf\n",
    "\n",
    "# test_predictions"
   ]
  },
  {
   "cell_type": "code",
   "execution_count": null,
   "id": "166fc65c",
   "metadata": {},
   "outputs": [],
   "source": [
    "Test[\"Score\"].unique()"
   ]
  },
  {
   "cell_type": "code",
   "execution_count": null,
   "id": "d611d94d",
   "metadata": {},
   "outputs": [],
   "source": [
    "score_mapping = {value:key for key, value in score_mapping.items()}\n",
    "Test[\"Score\"] = Test[\"Score\"].apply(lambda x: score_mapping[x])"
   ]
  },
  {
   "cell_type": "code",
   "execution_count": null,
   "id": "0461fe4a",
   "metadata": {},
   "outputs": [],
   "source": [
    "game_mapping = {value:key for key, value in game_mapping.items()}\n",
    "Test[\"Game_ID\"] = Test[\"Game_ID\"].apply(lambda x: game_mapping[x])"
   ]
  },
  {
   "cell_type": "code",
   "execution_count": null,
   "id": "a9dbace7",
   "metadata": {},
   "outputs": [],
   "source": [
    "Test[\"Score\"].unique()"
   ]
  },
  {
   "cell_type": "code",
   "execution_count": null,
   "id": "3ff1819c",
   "metadata": {},
   "outputs": [
    {
     "data": {
      "text/html": [
       "<div>\n",
       "<style scoped>\n",
       "    .dataframe tbody tr th:only-of-type {\n",
       "        vertical-align: middle;\n",
       "    }\n",
       "\n",
       "    .dataframe tbody tr th {\n",
       "        vertical-align: top;\n",
       "    }\n",
       "\n",
       "    .dataframe thead th {\n",
       "        text-align: right;\n",
       "    }\n",
       "</style>\n",
       "<table border=\"1\" class=\"dataframe\">\n",
       "  <thead>\n",
       "    <tr style=\"text-align: right;\">\n",
       "      <th></th>\n",
       "      <th>Game_ID</th>\n",
       "      <th>Player_ID</th>\n",
       "      <th>id</th>\n",
       "      <th>X</th>\n",
       "      <th>Y</th>\n",
       "      <th>Team</th>\n",
       "      <th>Half</th>\n",
       "      <th>Season_x</th>\n",
       "      <th>Manager</th>\n",
       "      <th>Opposition_Team</th>\n",
       "      <th>Shots</th>\n",
       "      <th>SoT</th>\n",
       "      <th>Accurate passes</th>\n",
       "      <th>Inaccurate passes</th>\n",
       "      <th>Passes</th>\n",
       "      <th>Start_minutes</th>\n",
       "      <th>End_minutes</th>\n",
       "      <th>Season_y</th>\n",
       "      <th>Match_ID</th>\n",
       "      <th>Home Team</th>\n",
       "      <th>Away Team</th>\n",
       "    </tr>\n",
       "  </thead>\n",
       "  <tbody>\n",
       "    <tr>\n",
       "      <th>0</th>\n",
       "      <td>ID_ZUPS2JD2</td>\n",
       "      <td>106</td>\n",
       "      <td>1.0</td>\n",
       "      <td>52.5</td>\n",
       "      <td>34.0</td>\n",
       "      <td>14</td>\n",
       "      <td>0</td>\n",
       "      <td>3</td>\n",
       "      <td>40</td>\n",
       "      <td>18</td>\n",
       "      <td>0.0</td>\n",
       "      <td>0.0</td>\n",
       "      <td>1.0</td>\n",
       "      <td>0.0</td>\n",
       "      <td>1.0</td>\n",
       "      <td>0.68</td>\n",
       "      <td>1.02</td>\n",
       "      <td>3</td>\n",
       "      <td>158.0</td>\n",
       "      <td>18</td>\n",
       "      <td>14</td>\n",
       "    </tr>\n",
       "    <tr>\n",
       "      <th>1</th>\n",
       "      <td>ID_ZUPS2JD2</td>\n",
       "      <td>106</td>\n",
       "      <td>2.0</td>\n",
       "      <td>52.5</td>\n",
       "      <td>34.0</td>\n",
       "      <td>14</td>\n",
       "      <td>0</td>\n",
       "      <td>3</td>\n",
       "      <td>40</td>\n",
       "      <td>18</td>\n",
       "      <td>0.0</td>\n",
       "      <td>0.0</td>\n",
       "      <td>0.0</td>\n",
       "      <td>0.0</td>\n",
       "      <td>0.0</td>\n",
       "      <td>0.68</td>\n",
       "      <td>1.02</td>\n",
       "      <td>3</td>\n",
       "      <td>158.0</td>\n",
       "      <td>18</td>\n",
       "      <td>14</td>\n",
       "    </tr>\n",
       "  </tbody>\n",
       "</table>\n",
       "</div>"
      ],
      "text/plain": [
       "       Game_ID  Player_ID   id     X     Y  Team  Half  Season_x  Manager  \\\n",
       "0  ID_ZUPS2JD2        106  1.0  52.5  34.0    14     0         3       40   \n",
       "1  ID_ZUPS2JD2        106  2.0  52.5  34.0    14     0         3       40   \n",
       "\n",
       "   Opposition_Team  Shots  SoT  Accurate passes  Inaccurate passes  Passes  \\\n",
       "0               18    0.0  0.0              1.0                0.0     1.0   \n",
       "1               18    0.0  0.0              0.0                0.0     0.0   \n",
       "\n",
       "   Start_minutes  End_minutes  Season_y  Match_ID  Home Team  Away Team  \n",
       "0           0.68         1.02         3     158.0         18         14  \n",
       "1           0.68         1.02         3     158.0         18         14  "
      ]
     },
     "execution_count": 190,
     "metadata": {},
     "output_type": "execute_result"
    }
   ],
   "source": [
    "Test.head(2)"
   ]
  },
  {
   "cell_type": "code",
   "execution_count": null,
   "id": "225ef7d5",
   "metadata": {},
   "outputs": [
    {
     "ename": "KeyError",
     "evalue": "\"['Score'] not in index\"",
     "output_type": "error",
     "traceback": [
      "\u001b[0;31m---------------------------------------------------------------------------\u001b[0m",
      "\u001b[0;31mKeyError\u001b[0m                                  Traceback (most recent call last)",
      "Cell \u001b[0;32mIn[207], line 1\u001b[0m\n\u001b[0;32m----> 1\u001b[0m submit \u001b[39m=\u001b[39m Test[[\u001b[39m\"\u001b[39;49m\u001b[39mGame_ID\u001b[39;49m\u001b[39m\"\u001b[39;49m, \u001b[39m\"\u001b[39;49m\u001b[39mScore\u001b[39;49m\u001b[39m\"\u001b[39;49m]]\n",
      "File \u001b[0;32m~/anaconda3/lib/python3.10/site-packages/pandas/core/frame.py:3813\u001b[0m, in \u001b[0;36mDataFrame.__getitem__\u001b[0;34m(self, key)\u001b[0m\n\u001b[1;32m   3811\u001b[0m     \u001b[39mif\u001b[39;00m is_iterator(key):\n\u001b[1;32m   3812\u001b[0m         key \u001b[39m=\u001b[39m \u001b[39mlist\u001b[39m(key)\n\u001b[0;32m-> 3813\u001b[0m     indexer \u001b[39m=\u001b[39m \u001b[39mself\u001b[39;49m\u001b[39m.\u001b[39;49mcolumns\u001b[39m.\u001b[39;49m_get_indexer_strict(key, \u001b[39m\"\u001b[39;49m\u001b[39mcolumns\u001b[39;49m\u001b[39m\"\u001b[39;49m)[\u001b[39m1\u001b[39m]\n\u001b[1;32m   3815\u001b[0m \u001b[39m# take() does not accept boolean indexers\u001b[39;00m\n\u001b[1;32m   3816\u001b[0m \u001b[39mif\u001b[39;00m \u001b[39mgetattr\u001b[39m(indexer, \u001b[39m\"\u001b[39m\u001b[39mdtype\u001b[39m\u001b[39m\"\u001b[39m, \u001b[39mNone\u001b[39;00m) \u001b[39m==\u001b[39m \u001b[39mbool\u001b[39m:\n",
      "File \u001b[0;32m~/anaconda3/lib/python3.10/site-packages/pandas/core/indexes/base.py:6070\u001b[0m, in \u001b[0;36mIndex._get_indexer_strict\u001b[0;34m(self, key, axis_name)\u001b[0m\n\u001b[1;32m   6067\u001b[0m \u001b[39melse\u001b[39;00m:\n\u001b[1;32m   6068\u001b[0m     keyarr, indexer, new_indexer \u001b[39m=\u001b[39m \u001b[39mself\u001b[39m\u001b[39m.\u001b[39m_reindex_non_unique(keyarr)\n\u001b[0;32m-> 6070\u001b[0m \u001b[39mself\u001b[39;49m\u001b[39m.\u001b[39;49m_raise_if_missing(keyarr, indexer, axis_name)\n\u001b[1;32m   6072\u001b[0m keyarr \u001b[39m=\u001b[39m \u001b[39mself\u001b[39m\u001b[39m.\u001b[39mtake(indexer)\n\u001b[1;32m   6073\u001b[0m \u001b[39mif\u001b[39;00m \u001b[39misinstance\u001b[39m(key, Index):\n\u001b[1;32m   6074\u001b[0m     \u001b[39m# GH 42790 - Preserve name from an Index\u001b[39;00m\n",
      "File \u001b[0;32m~/anaconda3/lib/python3.10/site-packages/pandas/core/indexes/base.py:6133\u001b[0m, in \u001b[0;36mIndex._raise_if_missing\u001b[0;34m(self, key, indexer, axis_name)\u001b[0m\n\u001b[1;32m   6130\u001b[0m     \u001b[39mraise\u001b[39;00m \u001b[39mKeyError\u001b[39;00m(\u001b[39mf\u001b[39m\u001b[39m\"\u001b[39m\u001b[39mNone of [\u001b[39m\u001b[39m{\u001b[39;00mkey\u001b[39m}\u001b[39;00m\u001b[39m] are in the [\u001b[39m\u001b[39m{\u001b[39;00maxis_name\u001b[39m}\u001b[39;00m\u001b[39m]\u001b[39m\u001b[39m\"\u001b[39m)\n\u001b[1;32m   6132\u001b[0m not_found \u001b[39m=\u001b[39m \u001b[39mlist\u001b[39m(ensure_index(key)[missing_mask\u001b[39m.\u001b[39mnonzero()[\u001b[39m0\u001b[39m]]\u001b[39m.\u001b[39munique())\n\u001b[0;32m-> 6133\u001b[0m \u001b[39mraise\u001b[39;00m \u001b[39mKeyError\u001b[39;00m(\u001b[39mf\u001b[39m\u001b[39m\"\u001b[39m\u001b[39m{\u001b[39;00mnot_found\u001b[39m}\u001b[39;00m\u001b[39m not in index\u001b[39m\u001b[39m\"\u001b[39m)\n",
      "\u001b[0;31mKeyError\u001b[0m: \"['Score'] not in index\""
     ]
    }
   ],
   "source": [
    "submit = Test[[\"Game_ID\", \"Score\"]]"
   ]
  },
  {
   "cell_type": "markdown",
   "id": "cb01749f",
   "metadata": {},
   "source": [
    "- Here I'm randomly selecting the score for every unique game ID, you can choose to be creative and look a the prediction with multiple rows."
   ]
  },
  {
   "cell_type": "code",
   "execution_count": null,
   "id": "f9feb56d",
   "metadata": {},
   "outputs": [
    {
     "name": "stderr",
     "output_type": "stream",
     "text": [
      "/var/folders/sd/lqrhfhxd16s8xnv4w6b6hjc00000gq/T/ipykernel_45900/1230856750.py:1: SettingWithCopyWarning: \n",
      "A value is trying to be set on a copy of a slice from a DataFrame\n",
      "\n",
      "See the caveats in the documentation: https://pandas.pydata.org/pandas-docs/stable/user_guide/indexing.html#returning-a-view-versus-a-copy\n",
      "  submit.drop_duplicates(subset = [\"Game_ID\"], inplace=True)\n"
     ]
    }
   ],
   "source": [
    "submit.drop_duplicates(subset = [\"Game_ID\"], inplace=True)"
   ]
  },
  {
   "cell_type": "code",
   "execution_count": null,
   "id": "92606248",
   "metadata": {},
   "outputs": [],
   "source": [
    "submit = submit.reset_index(drop=True)"
   ]
  },
  {
   "cell_type": "code",
   "execution_count": null,
   "id": "6cb89241",
   "metadata": {},
   "outputs": [
    {
     "data": {
      "text/plain": [
       "(234, 4)"
      ]
     },
     "execution_count": 193,
     "metadata": {},
     "output_type": "execute_result"
    }
   ],
   "source": [
    "submit.shape"
   ]
  },
  {
   "cell_type": "code",
   "execution_count": null,
   "id": "15df26f8",
   "metadata": {},
   "outputs": [
    {
     "data": {
      "text/html": [
       "<div>\n",
       "<style scoped>\n",
       "    .dataframe tbody tr th:only-of-type {\n",
       "        vertical-align: middle;\n",
       "    }\n",
       "\n",
       "    .dataframe tbody tr th {\n",
       "        vertical-align: top;\n",
       "    }\n",
       "\n",
       "    .dataframe thead th {\n",
       "        text-align: right;\n",
       "    }\n",
       "</style>\n",
       "<table border=\"1\" class=\"dataframe\">\n",
       "  <thead>\n",
       "    <tr style=\"text-align: right;\">\n",
       "      <th></th>\n",
       "      <th>Game_ID</th>\n",
       "      <th>Score_0</th>\n",
       "      <th>Score_1</th>\n",
       "      <th>Score_2</th>\n",
       "    </tr>\n",
       "  </thead>\n",
       "  <tbody>\n",
       "    <tr>\n",
       "      <th>0</th>\n",
       "      <td>640</td>\n",
       "      <td>1</td>\n",
       "      <td>0</td>\n",
       "      <td>0</td>\n",
       "    </tr>\n",
       "    <tr>\n",
       "      <th>1</th>\n",
       "      <td>639</td>\n",
       "      <td>0</td>\n",
       "      <td>1</td>\n",
       "      <td>0</td>\n",
       "    </tr>\n",
       "    <tr>\n",
       "      <th>2</th>\n",
       "      <td>638</td>\n",
       "      <td>0</td>\n",
       "      <td>0</td>\n",
       "      <td>1</td>\n",
       "    </tr>\n",
       "    <tr>\n",
       "      <th>3</th>\n",
       "      <td>637</td>\n",
       "      <td>0</td>\n",
       "      <td>1</td>\n",
       "      <td>0</td>\n",
       "    </tr>\n",
       "    <tr>\n",
       "      <th>4</th>\n",
       "      <td>634</td>\n",
       "      <td>1</td>\n",
       "      <td>0</td>\n",
       "      <td>0</td>\n",
       "    </tr>\n",
       "  </tbody>\n",
       "</table>\n",
       "</div>"
      ],
      "text/plain": [
       "   Game_ID  Score_0  Score_1  Score_2\n",
       "0      640        1        0        0\n",
       "1      639        0        1        0\n",
       "2      638        0        0        1\n",
       "3      637        0        1        0\n",
       "4      634        1        0        0"
      ]
     },
     "execution_count": 194,
     "metadata": {},
     "output_type": "execute_result"
    }
   ],
   "source": [
    "submit.head()"
   ]
  },
  {
   "cell_type": "code",
   "execution_count": null,
   "id": "85ad2419",
   "metadata": {},
   "outputs": [],
   "source": [
    "submit = pd.get_dummies(submit, columns = ['Score'], prefix=None)"
   ]
  },
  {
   "cell_type": "code",
   "execution_count": null,
   "id": "747b968f",
   "metadata": {},
   "outputs": [
    {
     "data": {
      "text/html": [
       "<div>\n",
       "<style scoped>\n",
       "    .dataframe tbody tr th:only-of-type {\n",
       "        vertical-align: middle;\n",
       "    }\n",
       "\n",
       "    .dataframe tbody tr th {\n",
       "        vertical-align: top;\n",
       "    }\n",
       "\n",
       "    .dataframe thead th {\n",
       "        text-align: right;\n",
       "    }\n",
       "</style>\n",
       "<table border=\"1\" class=\"dataframe\">\n",
       "  <thead>\n",
       "    <tr style=\"text-align: right;\">\n",
       "      <th></th>\n",
       "      <th>Game_ID</th>\n",
       "      <th>Score_0</th>\n",
       "      <th>Score_1</th>\n",
       "      <th>Score_2</th>\n",
       "    </tr>\n",
       "  </thead>\n",
       "  <tbody>\n",
       "    <tr>\n",
       "      <th>0</th>\n",
       "      <td>640</td>\n",
       "      <td>1</td>\n",
       "      <td>0</td>\n",
       "      <td>0</td>\n",
       "    </tr>\n",
       "    <tr>\n",
       "      <th>1</th>\n",
       "      <td>639</td>\n",
       "      <td>0</td>\n",
       "      <td>1</td>\n",
       "      <td>0</td>\n",
       "    </tr>\n",
       "  </tbody>\n",
       "</table>\n",
       "</div>"
      ],
      "text/plain": [
       "   Game_ID  Score_0  Score_1  Score_2\n",
       "0      640        1        0        0\n",
       "1      639        0        1        0"
      ]
     },
     "execution_count": 196,
     "metadata": {},
     "output_type": "execute_result"
    }
   ],
   "source": [
    "submit.head(2)"
   ]
  },
  {
   "cell_type": "code",
   "execution_count": null,
   "id": "886ce4a9",
   "metadata": {},
   "outputs": [],
   "source": [
    "submit.rename(columns = {\"Score_0\": \"Away win\", \"Score_1\":\"Draw\", \"Score_2\":\"Home Win\"}, inplace=True)"
   ]
  },
  {
   "cell_type": "code",
   "execution_count": null,
   "id": "67cddf27",
   "metadata": {},
   "outputs": [
    {
     "data": {
      "text/html": [
       "<div>\n",
       "<style scoped>\n",
       "    .dataframe tbody tr th:only-of-type {\n",
       "        vertical-align: middle;\n",
       "    }\n",
       "\n",
       "    .dataframe tbody tr th {\n",
       "        vertical-align: top;\n",
       "    }\n",
       "\n",
       "    .dataframe thead th {\n",
       "        text-align: right;\n",
       "    }\n",
       "</style>\n",
       "<table border=\"1\" class=\"dataframe\">\n",
       "  <thead>\n",
       "    <tr style=\"text-align: right;\">\n",
       "      <th></th>\n",
       "      <th>Game_ID</th>\n",
       "      <th>Away win</th>\n",
       "      <th>Draw</th>\n",
       "      <th>Home Win</th>\n",
       "    </tr>\n",
       "  </thead>\n",
       "  <tbody>\n",
       "    <tr>\n",
       "      <th>0</th>\n",
       "      <td>640</td>\n",
       "      <td>1</td>\n",
       "      <td>0</td>\n",
       "      <td>0</td>\n",
       "    </tr>\n",
       "    <tr>\n",
       "      <th>1</th>\n",
       "      <td>639</td>\n",
       "      <td>0</td>\n",
       "      <td>1</td>\n",
       "      <td>0</td>\n",
       "    </tr>\n",
       "  </tbody>\n",
       "</table>\n",
       "</div>"
      ],
      "text/plain": [
       "   Game_ID  Away win  Draw  Home Win\n",
       "0      640         1     0         0\n",
       "1      639         0     1         0"
      ]
     },
     "execution_count": 200,
     "metadata": {},
     "output_type": "execute_result"
    }
   ],
   "source": [
    "submit.head(2)"
   ]
  },
  {
   "cell_type": "code",
   "execution_count": null,
   "id": "d865299e",
   "metadata": {},
   "outputs": [],
   "source": [
    "submit.to_csv(\"submission.csv\", index=False)"
   ]
  }
 ],
 "metadata": {
  "kernelspec": {
   "display_name": "Python 3 (ipykernel)",
   "language": "python",
   "name": "python3"
  },
  "language_info": {
   "codemirror_mode": {
    "name": "ipython",
    "version": 3
   },
   "file_extension": ".py",
   "mimetype": "text/x-python",
   "name": "python",
   "nbconvert_exporter": "python",
   "pygments_lexer": "ipython3",
   "version": "3.10.9"
  }
 },
 "nbformat": 4,
 "nbformat_minor": 5
}
